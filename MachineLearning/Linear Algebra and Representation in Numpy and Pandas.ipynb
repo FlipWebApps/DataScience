{
 "cells": [
  {
   "cell_type": "markdown",
   "metadata": {},
   "source": [
    "# Linear Algebra and Representation in Numpy and Pandas\n",
    "\n",
    "This notebook looks at linear algebra and how structures are represented in both nupy and pandas, including conversion between the different data structures.\n",
    "\n",
    "References:\n",
    "https://minireference.com/static/tutorials/linear_algebra_in_4_pages.pdf"
   ]
  },
  {
   "cell_type": "code",
   "execution_count": 32,
   "metadata": {
    "collapsed": true
   },
   "outputs": [],
   "source": [
    "import pandas as pd\n",
    "import numpy as np\n",
    "from numpy import array"
   ]
  },
  {
   "cell_type": "markdown",
   "metadata": {},
   "source": [
    "# Basic Concepts\n",
    "A vector is a 1 dimensional array.\n",
    "\n",
    "A matrix is a 2 dimensional array.\n",
    "\n",
    "A tensor is a generalization of vectors and matrices and is easily understood as a multidimensional array. A vector is a one-dimensional or first order tensor and a matrix is a two-dimensional or second order tensor.\n",
    "\n",
    "Vectors and matrices, tensors can be represented in Python using the N-dimensional array (ndarray)."
   ]
  },
  {
   "cell_type": "code",
   "execution_count": 22,
   "metadata": {},
   "outputs": [
    {
     "name": "stdout",
     "output_type": "stream",
     "text": [
      "[ 5 10 15 20 25 30]\n",
      "Dimensions: 1\n",
      "Shape: (6,)\n",
      "<class 'numpy.ndarray'>\n",
      "\n",
      "[[ 5  6]\n",
      " [10 11]]\n",
      "Dimensions: 2\n",
      "Shape: (2, 2)\n",
      "<class 'numpy.ndarray'>\n",
      "\n",
      "[[[ 1  2  3]\n",
      "  [ 4  5  6]\n",
      "  [ 7  8  9]]\n",
      "\n",
      " [[11 12 13]\n",
      "  [14 15 16]\n",
      "  [17 18 19]]\n",
      "\n",
      " [[21 22 23]\n",
      "  [24 25 26]\n",
      "  [27 28 29]]]\n",
      "Dimensions: 3\n",
      "Shape: (3, 3, 3)\n"
     ]
    }
   ],
   "source": [
    "# create array\n",
    "np_array1d = np.array([5,10,15,20,25,30])\n",
    "print(np_array1d)\n",
    "print(\"Dimensions:\", np_array1d.ndim)\n",
    "print(\"Shape:\", np_array1d.shape)\n",
    "print(type(np_array1d))\n",
    "print()\n",
    "\n",
    "# create matrix\n",
    "matrix = np.array([[5,6],[10,11]])\n",
    "print(matrix)\n",
    "print(\"Dimensions:\", matrix.ndim)\n",
    "print(\"Shape:\", matrix.shape)\n",
    "print(type(matrix))\n",
    "print()\n",
    "\n",
    "# create tensor\n",
    "from numpy import array\n",
    "tensor = array([\n",
    "  [[1,2,3],    [4,5,6],    [7,8,9]],\n",
    "  [[11,12,13], [14,15,16], [17,18,19]],\n",
    "  [[21,22,23], [24,25,26], [27,28,29]],\n",
    "  ])\n",
    "print(T)\n",
    "print(\"Dimensions:\", T.ndim)\n",
    "print(\"Shape:\", T.shape)"
   ]
  },
  {
   "cell_type": "markdown",
   "metadata": {},
   "source": [
    "# Basic Numpy Setup\n",
    "Some of the different ways of creating numpy arrays of different dimensions.\n",
    "\n",
    "Here we use array(), but can also use:\n",
    "* empty() - Creates array of specificed shape and randomly initialised.\n",
    "* zeros() - Creates array of specificed shape and initialised to 0.\n",
    "* ones() - Creates array of specificed shape and initialised to 1."
   ]
  },
  {
   "cell_type": "code",
   "execution_count": 8,
   "metadata": {},
   "outputs": [
    {
     "name": "stdout",
     "output_type": "stream",
     "text": [
      "1d numpy array\n",
      "\n",
      "[ 5 10 15 20 25 30]\n",
      "Dimensions: 1\n",
      "Shape: (6,)\n",
      "<class 'numpy.ndarray'>\n",
      "\n",
      "2d numpy array with single elements in the first dimension\n",
      "\n",
      "[[ 5 10 15 20 25 30]]\n",
      "Dimensions: 2\n",
      "Shape: (1, 6)\n",
      "<class 'numpy.ndarray'>\n",
      "\n",
      "2d numpy array with single elements in the second dimension\n",
      "\n",
      "[[ 5]\n",
      " [10]\n",
      " [15]\n",
      " [20]\n",
      " [25]\n",
      " [30]]\n",
      "Dimensions: 2\n",
      "Shape: (6, 1)\n",
      "<class 'numpy.ndarray'>\n",
      "\n",
      "2d numpy array with different number of multiple elements in the second dimension\n",
      "\n",
      "[list([5, 6]) list([10, 11]) list([15, 16]) list([20]) list([25])\n",
      " list([30])]\n",
      "Dimensions: 1\n",
      "Shape: (6,)\n",
      "<class 'numpy.ndarray'>\n",
      "\n",
      "2d numpy array with multiple elements in the second dimension\n",
      "\n",
      "[[ 5  6]\n",
      " [10 11]\n",
      " [15 16]\n",
      " [20 21]\n",
      " [25 26]\n",
      " [30 31]]\n",
      "Dimensions: 2\n",
      "Shape: (6, 2)\n",
      "<class 'numpy.ndarray'>\n",
      "\n"
     ]
    }
   ],
   "source": [
    "print(\"1d numpy array\\n\")\n",
    "np_array1d = np.array([5,10,15,20,25,30])\n",
    "print(np_array1d)\n",
    "print(\"Dimensions:\", np_array1d.ndim)\n",
    "print(\"Shape:\", np_array1d.shape)\n",
    "print(type(np_array1d))\n",
    "print()\n",
    "\n",
    "print(\"2d numpy array with single elements in the first dimension\\n\")\n",
    "np_array2d16 = np.array([[5,10,15,20,25,30]])\n",
    "print(np_array2d16)\n",
    "print(\"Dimensions:\", np_array2d16.ndim)\n",
    "print(\"Shape:\", np_array2d16.shape)\n",
    "print(type(np_array2d16))\n",
    "print()\n",
    "\n",
    "print(\"2d numpy array with single elements in the second dimension\\n\")\n",
    "np_array2d61 = np.array([[5],[10],[15],[20],[25],[30]])\n",
    "print(np_array2d61)\n",
    "print(\"Dimensions:\", np_array2d61.ndim)\n",
    "print(\"Shape:\", np_array2d61.shape)\n",
    "print(type(np_array2d61))\n",
    "print()\n",
    "\n",
    "print(\"2d numpy array with different number of multiple elements in the second dimension\\n\")\n",
    "np_array2different = np.array([[5,6],[10,11],[15,16],[20],[25],[30]])\n",
    "print(np_array2different)\n",
    "print(\"Dimensions:\", np_array2different.ndim)\n",
    "print(\"Shape:\", np_array2different.shape)\n",
    "print(type(np_array2different))\n",
    "print()\n",
    "\n",
    "print(\"2d numpy array with multiple elements in the second dimension\\n\")\n",
    "np_array2d62 = np.array([[5,6],[10,11],[15,16],[20,21],[25,26],[30,31]])\n",
    "print(np_array2d62)\n",
    "print(\"Dimensions:\", np_array2d62.ndim)\n",
    "print(\"Shape:\", np_array2d62.shape)\n",
    "print(type(np_array2d62))\n",
    "print()\n",
    "   "
   ]
  },
  {
   "cell_type": "markdown",
   "metadata": {},
   "source": [
    "# Basic Pandas Setup"
   ]
  },
  {
   "cell_type": "markdown",
   "metadata": {},
   "source": [
    "## Data Frames\n",
    "Some of the different ways of manually creating pandas DataFrames"
   ]
  },
  {
   "cell_type": "code",
   "execution_count": 9,
   "metadata": {},
   "outputs": [
    {
     "name": "stdout",
     "output_type": "stream",
     "text": [
      "   Column1  Column2\n",
      "0        1        5\n",
      "1        1       10\n",
      "2        1       15\n",
      "3        1       20\n",
      "4        1       25\n",
      "\n",
      "   0   1\n",
      "0  1   5\n",
      "1  1  10\n",
      "2  1  15\n",
      "3  1  20\n",
      "4  1  25\n",
      "\n",
      "   Column1  Column2\n",
      "0        1        5\n",
      "1        1       10\n",
      "2        1       15\n",
      "3        1       20\n",
      "4        1       25\n",
      "\n",
      "   0   1   2   3   4   5\n",
      "0  5  10  15  20  25  30\n",
      "\n",
      "    0\n",
      "0   5\n",
      "1  10\n",
      "2  15\n",
      "3  20\n",
      "4  25\n",
      "\n",
      "          0\n",
      "0    [5, 6]\n",
      "1  [10, 11]\n",
      "2  [15, 16]\n",
      "3      [20]\n",
      "4      [25]\n",
      "\n",
      "    0   1\n",
      "0   5   6\n",
      "1  10  11\n",
      "2  15  16\n",
      "3  20  21\n",
      "4  25  26\n",
      "\n"
     ]
    }
   ],
   "source": [
    "# from dictionary\n",
    "test_df = pd.DataFrame({'Column1' : 1,\n",
    "                        'Column2' : [5,10,15,20,25,30]})\n",
    "print(test_df.head())\n",
    "print()\n",
    "\n",
    "#same as above but using a list of lists rather than dictionary.\n",
    "test_df = pd.DataFrame([[1,5], [1,10], [1,15], [1,20], [1,25], [1,30]])\n",
    "print(test_df.head())\n",
    "print()\n",
    "\n",
    "# from 1d npArray\n",
    "test_df = pd.DataFrame({'Column1' : 1,\n",
    "                        'Column2' : np_array1d})\n",
    "print(test_df.head())\n",
    "print()\n",
    "\n",
    "# from 2d numpy array with single element in the first dimension\n",
    "test_df = pd.DataFrame(np_array2d16)\n",
    "print(test_df.head())\n",
    "print()\n",
    "\n",
    "# from 2d numpy array with single elements in the second dimension\n",
    "test_df = pd.DataFrame(np_array2d61)\n",
    "print(test_df.head())\n",
    "print()\n",
    "\n",
    "# from 2d numpy array with different number of multiple elements in the second dimension\n",
    "test_df = pd.DataFrame(np_array2different)\n",
    "print(test_df.head())\n",
    "print()\n",
    "\n",
    "# from 2d npArray - 2 dimensions\n",
    "test_df = pd.DataFrame(np_array2d62)\n",
    "print(test_df.head())\n",
    "print()"
   ]
  },
  {
   "cell_type": "markdown",
   "metadata": {},
   "source": [
    "## Series\n",
    "Some of the different ways of creating a pandas Series\n",
    "* When creating from an nparray, the source must only have 1 dimension otherwise this will give an error."
   ]
  },
  {
   "cell_type": "code",
   "execution_count": 10,
   "metadata": {},
   "outputs": [
    {
     "name": "stdout",
     "output_type": "stream",
     "text": [
      "0     5\n",
      "1    10\n",
      "2    15\n",
      "3    20\n",
      "4    25\n",
      "dtype: int64\n",
      "\n",
      "0     5\n",
      "1    10\n",
      "2    15\n",
      "3    20\n",
      "4    25\n",
      "dtype: int32\n",
      "(6,)\n"
     ]
    }
   ],
   "source": [
    "test_series = pd.Series([5,10,15,20,25,30])\n",
    "print(test_series.head())\n",
    "print()\n",
    "\n",
    "test_series = pd.Series(np_array1d)\n",
    "print(test_series.head())\n",
    "print(test_series.shape)"
   ]
  },
  {
   "cell_type": "markdown",
   "metadata": {},
   "source": [
    "# Conversion Pandas -> Numpy"
   ]
  },
  {
   "cell_type": "markdown",
   "metadata": {},
   "source": [
    "DataFrame column selection - select by list gives dataframe, select by single value gives series"
   ]
  },
  {
   "cell_type": "code",
   "execution_count": 11,
   "metadata": {},
   "outputs": [
    {
     "name": "stdout",
     "output_type": "stream",
     "text": [
      "Select single column by single value (df[])\n",
      "0     6\n",
      "1    11\n",
      "2    16\n",
      "3    21\n",
      "4    26\n",
      "5    31\n",
      "Name: 1, dtype: int32\n",
      "<class 'pandas.core.series.Series'>\n",
      "\n",
      "Select single (or multiple) columns by list (df[[]])\n",
      "    1\n",
      "0   6\n",
      "1  11\n",
      "2  16\n",
      "3  21\n",
      "4  26\n",
      "5  31\n",
      "<class 'pandas.core.frame.DataFrame'>\n"
     ]
    }
   ],
   "source": [
    "print(\"Select single column by single value (df[])\")\n",
    "newdf = test_df[1]\n",
    "print(newdf)\n",
    "print(type(newdf))\n",
    "\n",
    "print()\n",
    "print(\"Select single (or multiple) columns by list (df[[]])\")\n",
    "newdf = test_df[[1]]\n",
    "print(newdf)\n",
    "print(type(newdf))\n"
   ]
  },
  {
   "cell_type": "markdown",
   "metadata": {},
   "source": [
    "Dataframe to numpy conversions"
   ]
  },
  {
   "cell_type": "code",
   "execution_count": 12,
   "metadata": {},
   "outputs": [
    {
     "name": "stdout",
     "output_type": "stream",
     "text": [
      "Input Dataframe (2 columns):\n",
      "    0   1\n",
      "0   5   6\n",
      "1  10  11\n",
      "2  15  16\n",
      "3  20  21\n",
      "4  25  26\n",
      "5  30  31\n",
      "DataFrame.values:\n",
      "<class 'numpy.ndarray'> (6, 2)\n",
      "[[ 5  6]\n",
      " [10 11]\n",
      " [15 16]\n",
      " [20 21]\n",
      " [25 26]\n",
      " [30 31]]\n",
      "\n",
      "Input Dataframe (1 column):\n",
      "    1\n",
      "0   6\n",
      "1  11\n",
      "2  16\n",
      "3  21\n",
      "4  26\n",
      "5  31\n",
      "DataFrame.values:\n",
      "<class 'numpy.ndarray'> (6, 1)\n",
      "[[ 6]\n",
      " [11]\n",
      " [16]\n",
      " [21]\n",
      " [26]\n",
      " [31]]\n",
      "\n"
     ]
    }
   ],
   "source": [
    "print(\"Input Dataframe (2 columns):\")\n",
    "print(test_df.head(10))\n",
    "print(\"DataFrame.values:\")\n",
    "print(type(test_df.values), test_df.values.shape)\n",
    "print(test_df.values)\n",
    "print()\n",
    "\n",
    "print(\"Input Dataframe (1 column):\")\n",
    "print(test_df[[1]].head(10))\n",
    "print(\"DataFrame.values:\")\n",
    "print(type(test_df[[1]].values), test_df[[1]].values.shape)\n",
    "print(test_df[[1]].values)\n",
    "print()"
   ]
  },
  {
   "cell_type": "markdown",
   "metadata": {},
   "source": [
    "Series to numpy conversions. Note this is not the same as a conversion from a dataframe with 1 column"
   ]
  },
  {
   "cell_type": "code",
   "execution_count": 13,
   "metadata": {},
   "outputs": [
    {
     "name": "stdout",
     "output_type": "stream",
     "text": [
      "Input Series:\n",
      "0     5\n",
      "1    10\n",
      "2    15\n",
      "3    20\n",
      "4    25\n",
      "5    30\n",
      "dtype: int32\n",
      "Series.values:\n",
      "<class 'numpy.ndarray'> (6,)\n",
      "[ 5 10 15 20 25 30]\n",
      "\n"
     ]
    }
   ],
   "source": [
    "print(\"Input Series:\")\n",
    "print(test_series.head(10))\n",
    "print(\"Series.values:\")\n",
    "print(type(test_series.values), test_series.values.shape)\n",
    "print(test_series.values)\n",
    "print()"
   ]
  },
  {
   "cell_type": "markdown",
   "metadata": {},
   "source": [
    "# Operations\n",
    "Note that certain operations require arrays / matrices to be of particular dimensions. Broadcasting is the name given to the method that NumPy uses to allow array arithmetic between arrays with a different shape or size.\n",
    "\n",
    "Broadcasting solves the problem of arithmetic between arrays of differing shapes by in effect replicating \"broadcasting\" the smaller array along the last mismatched dimension so that they have compatible shapes."
   ]
  },
  {
   "cell_type": "markdown",
   "metadata": {},
   "source": [
    "Addition - addition is element wise"
   ]
  },
  {
   "cell_type": "code",
   "execution_count": 19,
   "metadata": {
    "scrolled": false
   },
   "outputs": [
    {
     "name": "stdout",
     "output_type": "stream",
     "text": [
      "Adding series.values (1d np array) and 1d numpy array:\n",
      "[ 5 10 15 20 25 30]\n",
      "[ 5 10 15 20 25 30]\n",
      "[10 20 30 40 50 60]\n",
      "\n",
      "Adding series.values (1d np array) with 2d (1,x) array:\n",
      "[ 5 10 15 20 25 30]\n",
      "[[ 5 10 15 20 25 30]]\n",
      "[[10 20 30 40 50 60]]\n",
      "\n",
      "Adding series.values (1d np array) with 2d (x,1) array:\n",
      "[[10 15 20 25 30 35]\n",
      " [15 20 25 30 35 40]\n",
      " [20 25 30 35 40 45]\n",
      " [25 30 35 40 45 50]\n",
      " [30 35 40 45 50 55]\n",
      " [35 40 45 50 55 60]]\n",
      "\n",
      "Adding two 2d (x,1) arrays):\n",
      "[[10]\n",
      " [20]\n",
      " [30]\n",
      " [40]\n",
      " [50]\n",
      " [60]]\n",
      "\n",
      "Adding two 2d (1,x) arrays):\n",
      "[[10 20 30 40 50 60]]\n",
      "\n",
      "Adding single column DataFrame and 2d (x,1) arrays:\n",
      "    1\n",
      "0  11\n",
      "1  21\n",
      "2  31\n",
      "3  41\n",
      "4  51\n",
      "5  61\n",
      "<class 'pandas.core.frame.DataFrame'>\n",
      "\n",
      "Adding single column DataFrame and 1d np arrays:\n",
      "test_df[[1]] + np_array1d - this doesn't work and gives a 'ValueError: Unable to coerce to Series, length must be 1: given 6' error. Use series.values instead\n",
      "\n",
      "Adding single column DataFrame and 2d (1,x) arrays:\n",
      "test_df[[1]] + np_array2d16 - this doesn't work and gives a 'ValueError: Unable to coerce to DataFrame, shape must be (6, 1): given (1, 6)' error. Use series.values instead\n",
      "\n",
      "Adding series and 1d np arrays:\n",
      "0    10\n",
      "1    20\n",
      "2    30\n",
      "3    40\n",
      "4    50\n",
      "5    60\n",
      "dtype: int32\n",
      "\n",
      "Adding series and np arrays:\n",
      "test_series + np_array2d16 - this doesn't work and gives a 'Exception: Data must be 1-dimensional' error. Use series.values instead\n"
     ]
    }
   ],
   "source": [
    "print(\"Adding series.values (1d np array) and 1d numpy array:\")\n",
    "print(test_series.values)\n",
    "print(np_array1d)\n",
    "print(test_series.values + np_array1d)\n",
    "\n",
    "print(\"\\nAdding series.values (1d np array) with 2d (1,x) array:\")\n",
    "print(test_series.values)\n",
    "print(np_array2d16)\n",
    "print(test_series.values + np_array2d16)\n",
    "\n",
    "print(\"\\nAdding series.values (1d np array) with 2d (x,1) array:\")\n",
    "print(test_series.values + np_array2d61)\n",
    "\n",
    "print(\"\\nAdding two 2d (x,1) arrays):\")\n",
    "print(np_array2d61 + np_array2d61)\n",
    "\n",
    "print(\"\\nAdding two 2d (1,x) arrays):\")\n",
    "print(np_array2d16 + np_array2d16)\n",
    "\n",
    "print(\"\\nAdding single column DataFrame and 2d (x,1) arrays:\")\n",
    "result = test_df[[1]] + np_array2d61\n",
    "print(result)\n",
    "#print(\"Dimensions:\", np_array2d16.ndim)\n",
    "#print(\"Shape:\", np_array2d16.shape)\n",
    "print(type(result))\n",
    "\n",
    "print(\"\\nAdding single column DataFrame and 1d np arrays:\")\n",
    "print(\"test_df[[1]] + np_array1d - this doesn't work and gives a 'ValueError: Unable to coerce to Series, length must be 1: given 6' error. Use series.values instead\")\n",
    "\n",
    "print(\"\\nAdding single column DataFrame and 2d (1,x) arrays:\")\n",
    "print(\"test_df[[1]] + np_array2d16 - this doesn't work and gives a 'ValueError: Unable to coerce to DataFrame, shape must be (6, 1): given (1, 6)' error. Use series.values instead\")\n",
    "\n",
    "print(\"\\nAdding series and 1d np arrays:\")\n",
    "print(test_series + np_array1d)\n",
    "\n",
    "print(\"\\nAdding series and np arrays:\")\n",
    "print(\"test_series + np_array2d16 - this doesn't work and gives a 'Exception: Data must be 1-dimensional' error. Use series.values instead\")\n"
   ]
  },
  {
   "cell_type": "markdown",
   "metadata": {},
   "source": [
    "Subtraction - subtraction is element wise"
   ]
  },
  {
   "cell_type": "code",
   "execution_count": 23,
   "metadata": {
    "scrolled": false
   },
   "outputs": [
    {
     "name": "stdout",
     "output_type": "stream",
     "text": [
      "Subtracting series.values (1d np array) and 1d numpy array:\n",
      "[ 5 10 15 20 25 30]\n",
      "[ 5 10 15 20 25 30]\n",
      "[0 0 0 0 0 0]\n",
      "\n",
      "Subtracting series.values (1d np array) with 2d (1,x) array:\n",
      "[ 5 10 15 20 25 30]\n",
      "[[ 5 10 15 20 25 30]]\n",
      "[[0 0 0 0 0 0]]\n",
      "\n",
      "Subtracting series.values (1d np array) with 2d (x,1) array:\n",
      "[[  0   5  10  15  20  25]\n",
      " [ -5   0   5  10  15  20]\n",
      " [-10  -5   0   5  10  15]\n",
      " [-15 -10  -5   0   5  10]\n",
      " [-20 -15 -10  -5   0   5]\n",
      " [-25 -20 -15 -10  -5   0]]\n",
      "\n",
      "Subtracting two 2d (x,1) arrays):\n",
      "[[0]\n",
      " [0]\n",
      " [0]\n",
      " [0]\n",
      " [0]\n",
      " [0]]\n",
      "\n",
      "Subtracting two 2d (1,x) arrays):\n",
      "[[0 0 0 0 0 0]]\n",
      "\n",
      "Subtracting single column DataFrame and 2d (x,1) arrays:\n",
      "   1\n",
      "0  1\n",
      "1  1\n",
      "2  1\n",
      "3  1\n",
      "4  1\n",
      "5  1\n",
      "<class 'pandas.core.frame.DataFrame'>\n",
      "\n",
      "Subtracting single column DataFrame and 1d np arrays:\n",
      "test_df[[1]] - np_array1d - this doesn't work and gives a 'ValueError: Unable to coerce to Series, length must be 1: given 6' error. Use series.values instead\n",
      "\n",
      "Subtracting single column DataFrame and 2d (1,x) arrays:\n",
      "test_df[[1]] - np_array2d16 - this doesn't work and gives a 'ValueError: Unable to coerce to DataFrame, shape must be (6, 1): given (1, 6)' error. Use series.values instead\n",
      "\n",
      "Subtracting series and 1d np arrays:\n",
      "0    0\n",
      "1    0\n",
      "2    0\n",
      "3    0\n",
      "4    0\n",
      "5    0\n",
      "dtype: int32\n",
      "\n",
      "Subtracting series and np arrays:\n",
      "test_series - np_array2d16 - this doesn't work and gives a 'Exception: Data must be 1-dimensional' error. Use series.values instead\n"
     ]
    }
   ],
   "source": [
    "print(\"Subtracting series.values (1d np array) and 1d numpy array:\")\n",
    "print(test_series.values)\n",
    "print(np_array1d)\n",
    "print(test_series.values - np_array1d)\n",
    "\n",
    "print(\"\\nSubtracting series.values (1d np array) with 2d (1,x) array:\")\n",
    "print(test_series.values)\n",
    "print(np_array2d16)\n",
    "print(test_series.values - np_array2d16)\n",
    "\n",
    "print(\"\\nSubtracting series.values (1d np array) with 2d (x,1) array:\")\n",
    "print(test_series.values - np_array2d61)\n",
    "\n",
    "print(\"\\nSubtracting two 2d (x,1) arrays):\")\n",
    "print(np_array2d61 - np_array2d61)\n",
    "\n",
    "print(\"\\nSubtracting two 2d (1,x) arrays):\")\n",
    "print(np_array2d16 - np_array2d16)\n",
    "\n",
    "print(\"\\nSubtracting single column DataFrame and 2d (x,1) arrays:\")\n",
    "result = test_df[[1]] - np_array2d61\n",
    "print(result)\n",
    "#print(\"Dimensions:\", np_array2d16.ndim)\n",
    "#print(\"Shape:\", np_array2d16.shape)\n",
    "print(type(result))\n",
    "\n",
    "print(\"\\nSubtracting single column DataFrame and 1d np arrays:\")\n",
    "print(\"test_df[[1]] - np_array1d - this doesn't work and gives a 'ValueError: Unable to coerce to Series, length must be 1: given 6' error. Use series.values instead\")\n",
    "\n",
    "print(\"\\nSubtracting single column DataFrame and 2d (1,x) arrays:\")\n",
    "print(\"test_df[[1]] - np_array2d16 - this doesn't work and gives a 'ValueError: Unable to coerce to DataFrame, shape must be (6, 1): given (1, 6)' error. Use series.values instead\")\n",
    "\n",
    "print(\"\\nSubtracting series and 1d np arrays:\")\n",
    "print(test_series - np_array1d)\n",
    "\n",
    "print(\"\\nSubtracting series and np arrays:\")\n",
    "print(\"test_series - np_array2d16 - this doesn't work and gives a 'Exception: Data must be 1-dimensional' error. Use series.values instead\")\n"
   ]
  },
  {
   "cell_type": "markdown",
   "metadata": {},
   "source": [
    "* Multiplication - Performed element wise i.e.  a * b = (a1 * b1, a2 * b2, a3 * b3)\n",
    " * Multiplying by a scalar multiplies each element by that scalar\n",
    "* Division - Performed element wise i.e. a / b = (a1 / b1, a2 / b2, a3 / b3)\n",
    " * Dividing by a scalar divides each element by that scalar\n",
    "* Dot Product - Gives a scalar result i.e. a . b = (a1 * b1 + a2 * b2 + a3 * b3)"
   ]
  },
  {
   "cell_type": "markdown",
   "metadata": {},
   "source": [
    "Division is element wise either by a scalar or a matrix of the same size."
   ]
  },
  {
   "cell_type": "markdown",
   "metadata": {},
   "source": [
    "Multiplication can be element wise or by a scaler. \n",
    "\n",
    "Often we want the dot product which takes 2 matrices A & B to give a result matrix C. A must have the same number of columns as B has rows. If A is of shape m x n and B is of shape n x k then C will have shape m x k."
   ]
  },
  {
   "cell_type": "code",
   "execution_count": 1,
   "metadata": {},
   "outputs": [
    {
     "name": "stdout",
     "output_type": "stream",
     "text": [
      "[[1 2]\n",
      " [3 4]\n",
      " [5 6]]\n",
      "[[1 2]\n",
      " [3 4]]\n",
      "[[ 7 10]\n",
      " [15 22]\n",
      " [23 34]]\n"
     ]
    }
   ],
   "source": [
    "# matrix dot product\n",
    "from numpy import array\n",
    "A = array([[1, 2], [3, 4], [5, 6]])\n",
    "print(A)\n",
    "B = array([[1, 2], [3, 4]])\n",
    "print(B)\n",
    "C = A.dot(B)\n",
    "print(C)"
   ]
  },
  {
   "cell_type": "markdown",
   "metadata": {},
   "source": [
    "### Transpose\n",
    "A transposed matrix is a new matrix with the number of columns and rows flipped."
   ]
  },
  {
   "cell_type": "code",
   "execution_count": 16,
   "metadata": {},
   "outputs": [
    {
     "name": "stdout",
     "output_type": "stream",
     "text": [
      "[[1 2]\n",
      " [3 4]\n",
      " [5 6]]\n",
      "[[1 3 5]\n",
      " [2 4 6]]\n"
     ]
    }
   ],
   "source": [
    "# transpose matrix\n",
    "from numpy import array\n",
    "A = array([[1, 2], [3, 4], [5, 6]])\n",
    "print(A)\n",
    "C = A.T\n",
    "print(C)"
   ]
  },
  {
   "cell_type": "code",
   "execution_count": null,
   "metadata": {
    "collapsed": true
   },
   "outputs": [],
   "source": [
    "Inversion, Trace, Determinant, Rank, "
   ]
  },
  {
   "cell_type": "markdown",
   "metadata": {},
   "source": [
    "### Vector Norm / Magnitude\n",
    "The length of a vector from it's origin (e.g. 0,0,0). The norm is always a positive value (or zero).\n",
    "* L1 norm - sum of the absolute vector values - same as manhatten distance from the origin\n",
    "* L2 norm - square root of the sum of the squared vector values - same as euclidian distance from the origin\n",
    "* Max norm - maxmum of the individual vector values"
   ]
  },
  {
   "cell_type": "markdown",
   "metadata": {},
   "source": [
    "L1 Norm"
   ]
  },
  {
   "cell_type": "code",
   "execution_count": 40,
   "metadata": {},
   "outputs": [
    {
     "name": "stdout",
     "output_type": "stream",
     "text": [
      "[1 2 3]\n",
      "6.0\n"
     ]
    }
   ],
   "source": [
    "a = array([1, 2, 3])\n",
    "print(a)\n",
    "l1 = np.linalg.norm(a, 1)\n",
    "print(l1)"
   ]
  },
  {
   "cell_type": "markdown",
   "metadata": {},
   "source": [
    "L2 Norm"
   ]
  },
  {
   "cell_type": "code",
   "execution_count": 32,
   "metadata": {},
   "outputs": [
    {
     "name": "stdout",
     "output_type": "stream",
     "text": [
      "[1 2 3]\n",
      "3.7416573867739413\n"
     ]
    }
   ],
   "source": [
    "a = array([1, 2, 3])\n",
    "print(a)\n",
    "l1 = np.linalg.norm(a)\n",
    "print(l1)"
   ]
  },
  {
   "cell_type": "markdown",
   "metadata": {},
   "source": [
    "Max Norm"
   ]
  },
  {
   "cell_type": "code",
   "execution_count": 39,
   "metadata": {},
   "outputs": [
    {
     "name": "stdout",
     "output_type": "stream",
     "text": [
      "[1 2 3]\n",
      "3.0\n"
     ]
    }
   ],
   "source": [
    "a = array([1, 2, 3])\n",
    "print(a)\n",
    "l1 = np.linalg.norm(a, np.inf)\n",
    "print(l1)"
   ]
  },
  {
   "cell_type": "markdown",
   "metadata": {},
   "source": [
    "## Numpy Array Manipulation\n",
    "np.reshape - gives a new shape to an array without changing the data<br/>\n",
    "np.ravel - returns a flattened 1d array (only copies data if necessary and usually returns a view)<br/>\n",
    "np.flatten - returns a copy of the array collapsed into one dimension\n",
    "np.vstack - vertically stack 2 arrays\n",
    "np.hstack - horizontally stack 2 arrays\n",
    "\n",
    "np.zeros((3,3)).ravel()<br/>\n",
    "array([ 0.,  0.,  0.,  0.,  0.,  0.,  0.,  0.,  0.])\n",
    "\n",
    "The importance of ravel over flatten is ravel only copies data if necessary and usually returns a view, while flatten will always return a copy of the data.\n",
    "\n",
    "To use reshape to flatten the array:\n",
    "\n",
    "tt = t.reshape(-1)"
   ]
  },
  {
   "cell_type": "markdown",
   "metadata": {},
   "source": [
    "vstack"
   ]
  },
  {
   "cell_type": "code",
   "execution_count": 15,
   "metadata": {},
   "outputs": [
    {
     "name": "stdout",
     "output_type": "stream",
     "text": [
      "[1 2 3]\n",
      "[4 5 6]\n",
      "[[1 2 3]\n",
      " [4 5 6]]\n",
      "(2, 3)\n"
     ]
    }
   ],
   "source": [
    "a1 = np.array([1,2,3])\n",
    "print(a1)\n",
    "a2 = np.array([4,5,6])\n",
    "print(a2)\n",
    "a3 = np.vstack((a1, a2))\n",
    "print(a3)\n",
    "print(a3.shape)"
   ]
  },
  {
   "cell_type": "markdown",
   "metadata": {},
   "source": [
    "hstack"
   ]
  },
  {
   "cell_type": "code",
   "execution_count": 16,
   "metadata": {},
   "outputs": [
    {
     "name": "stdout",
     "output_type": "stream",
     "text": [
      "[1 2 3]\n",
      "[4 5 6]\n",
      "[1 2 3 4 5 6]\n",
      "(6,)\n"
     ]
    }
   ],
   "source": [
    "a1 = np.array([1,2,3])\n",
    "print(a1)\n",
    "a2 = np.array([4,5,6])\n",
    "print(a2)\n",
    "a3 = np.hstack((a1, a2))\n",
    "print(a3)\n",
    "print(a3.shape)"
   ]
  },
  {
   "cell_type": "markdown",
   "metadata": {},
   "source": [
    "### Reshaping\n",
    "1D -> 2D e.g. scikit-learn requires that 1D array of output variables be shaped as a 2D array with one column and outcomes for each column.\n"
   ]
  },
  {
   "cell_type": "code",
   "execution_count": 17,
   "metadata": {},
   "outputs": [
    {
     "name": "stdout",
     "output_type": "stream",
     "text": [
      "1d numpy array:\n",
      "[ 5 10 15 20 25 30]\n",
      "(6,)\n",
      "reshaped to 2D:\n",
      "[[ 5]\n",
      " [10]\n",
      " [15]\n",
      " [20]\n",
      " [25]\n",
      " [30]]\n",
      "(6, 1)\n"
     ]
    }
   ],
   "source": [
    "print(\"1d numpy array:\")\n",
    "print(np_array1d)\n",
    "print(np_array1d.shape)\n",
    "\n",
    "# reshape\n",
    "print(\"reshaped to 2D:\")\n",
    "data = np_array1d.reshape((np_array1d.shape[0], 1))\n",
    "print(data)\n",
    "print(data.shape)"
   ]
  },
  {
   "cell_type": "markdown",
   "metadata": {},
   "source": [
    "2D -> 3D e.g. scikit-learn requires that 1D array of output variables be shaped as a 2D array with one column and outcomes for each column.\n"
   ]
  },
  {
   "cell_type": "code",
   "execution_count": 18,
   "metadata": {},
   "outputs": [
    {
     "name": "stdout",
     "output_type": "stream",
     "text": [
      "2d numpy array:\n",
      "[[ 5  6]\n",
      " [10 11]\n",
      " [15 16]\n",
      " [20 21]\n",
      " [25 26]\n",
      " [30 31]]\n",
      "(6, 2)\n",
      "reshaped to 2D:\n",
      "[[[ 5]\n",
      "  [ 6]]\n",
      "\n",
      " [[10]\n",
      "  [11]]\n",
      "\n",
      " [[15]\n",
      "  [16]]\n",
      "\n",
      " [[20]\n",
      "  [21]]\n",
      "\n",
      " [[25]\n",
      "  [26]]\n",
      "\n",
      " [[30]\n",
      "  [31]]]\n",
      "(6, 2, 1)\n"
     ]
    }
   ],
   "source": [
    "print(\"2d numpy array:\")\n",
    "print(np_array2d62)\n",
    "print(np_array2d62.shape)\n",
    "\n",
    "# reshape\n",
    "print(\"reshaped to 2D:\")\n",
    "data = np_array2d62.reshape((np_array2d62.shape[0], np_array2d62.shape[1], 1))\n",
    "print(data)\n",
    "print(data.shape)"
   ]
  },
  {
   "cell_type": "markdown",
   "metadata": {},
   "source": [
    "## Matrix Types"
   ]
  },
  {
   "cell_type": "markdown",
   "metadata": {},
   "source": [
    "Square Matrix (nxn)\n",
    "\n",
    "Symmetric Matrix - square matrix where the top-right triangle is the same as the bottom-left triangle. A symmetric matrix is always square and equal to its own transpose."
   ]
  },
  {
   "cell_type": "code",
   "execution_count": 15,
   "metadata": {},
   "outputs": [
    {
     "name": "stdout",
     "output_type": "stream",
     "text": [
      "[[1 2 3 4]\n",
      " [2 1 3 2]\n",
      " [3 3 1 3]\n",
      " [4 2 3 1]]\n",
      "[[1 2 3 4]\n",
      " [2 1 3 2]\n",
      " [3 3 1 3]\n",
      " [4 2 3 1]]\n"
     ]
    }
   ],
   "source": [
    "# triangular matrices\n",
    "from numpy import array\n",
    "from numpy import tril\n",
    "from numpy import triu\n",
    "M = array([[1, 2, 3, 4], [2, 1, 3, 2], [3, 3, 1, 3], [4, 2, 3, 1]])\n",
    "print(M)\n",
    "transposed = M.T\n",
    "print(transposed)"
   ]
  },
  {
   "cell_type": "markdown",
   "metadata": {},
   "source": [
    "### Triangular Matrix\n",
    "A triangular matrix is a type of matrix that has all values in the upper-right or lower-left of the matrix with the remaining elements filled with zero values.\n",
    "\n",
    "A triangular matrix with values only above the main diagonal is called an upper triangular matrix. Whereas, a triangular matrix with values only below the main diagonal is called a lower triangular matrix.\n",
    "\n"
   ]
  },
  {
   "cell_type": "code",
   "execution_count": 7,
   "metadata": {},
   "outputs": [
    {
     "name": "stdout",
     "output_type": "stream",
     "text": [
      "[[1 2 3 4]\n",
      " [1 2 3 4]\n",
      " [1 2 3 4]\n",
      " [1 2 3 4]]\n",
      "[[1 0 0 0]\n",
      " [1 2 0 0]\n",
      " [1 2 3 0]\n",
      " [1 2 3 4]]\n",
      "[[1 2 3 4]\n",
      " [0 2 3 4]\n",
      " [0 0 3 4]\n",
      " [0 0 0 4]]\n"
     ]
    }
   ],
   "source": [
    "# triangular matrices\n",
    "from numpy import array\n",
    "from numpy import tril\n",
    "from numpy import triu\n",
    "M = array([[1, 2, 3, 4], [1, 2, 3, 4], [1, 2, 3, 4], [1, 2, 3, 4]])\n",
    "print(M)\n",
    "lower = tril(M)\n",
    "print(lower)\n",
    "upper = triu(M)\n",
    "print(upper)"
   ]
  },
  {
   "cell_type": "markdown",
   "metadata": {},
   "source": [
    "### Diagonal Matrix\n",
    "A diagonal matrix is one where values outside of the main diagonal have a zero value, where the main diagonal is taken from the top left of the matrix to the bottom right.\n",
    "\n",
    "A diagonal matrix is often denoted with the variable D and may be represented as a full matrix or as a vector of values on the main diagonal."
   ]
  },
  {
   "cell_type": "code",
   "execution_count": 9,
   "metadata": {},
   "outputs": [
    {
     "name": "stdout",
     "output_type": "stream",
     "text": [
      "[[1 2 3 4]\n",
      " [1 2 3 4]\n",
      " [1 2 3 4]\n",
      " [1 2 3 4]]\n",
      "[1 2 3 4]\n",
      "[[1 0 0 0]\n",
      " [0 2 0 0]\n",
      " [0 0 3 0]\n",
      " [0 0 0 4]]\n"
     ]
    }
   ],
   "source": [
    "# diagonal matrix\n",
    "from numpy import array\n",
    "from numpy import diag\n",
    "M = array([[1, 2, 3, 4], [1, 2, 3, 4], [1, 2, 3, 4], [1, 2, 3, 4]])\n",
    "print(M)\n",
    "# extract diagonal vector\n",
    "d = diag(M)\n",
    "print(d)\n",
    "# create diagonal matrix from vector\n",
    "D = diag(d)\n",
    "print(D)"
   ]
  },
  {
   "cell_type": "markdown",
   "metadata": {},
   "source": [
    "### Identity Matrix\n",
    "An identity matrix is a square matrix that does not change a vector when multiplied.\n",
    "\n",
    "The values of an identity matrix are known. All of the scalar values along the main diagonal (top-left to bottom-right) have the value one, while all other values are zero.\n",
    "\n",
    "An identity matrix is often represented using the notation “I” or with the dimensionality “In”, where n is a subscript that indicates the dimensionality of the square identity matrix."
   ]
  },
  {
   "cell_type": "code",
   "execution_count": 10,
   "metadata": {},
   "outputs": [
    {
     "name": "stdout",
     "output_type": "stream",
     "text": [
      "[[1. 0. 0.]\n",
      " [0. 1. 0.]\n",
      " [0. 0. 1.]]\n"
     ]
    }
   ],
   "source": [
    "# identity matrix\n",
    "from numpy import identity\n",
    "I = identity(3)\n",
    "print(I)"
   ]
  },
  {
   "cell_type": "markdown",
   "metadata": {},
   "source": [
    "## Eigendecomposition, Eigenvalues, and Eigenvectors\n",
    "Matrix decompositions are a useful tool for reducing a square matrix to their constituent parts in order to simplify a range of more complex operations.\n",
    "\n",
    "Perhaps the most used type of matrix decomposition is the eigendecomposition that decomposes a matrix into eigenvectors and eigenvalues. This decomposition also plays a role in methods used in machine learning, such as in the the Principal Component Analysis method or PCA.\n",
    "\n",
    "Eigenvectors are unit vectors, which means that their length or magnitude is equal to 1.0. They are often referred as right vectors, which simply means a column vector (as opposed to a row vector or a left vector). A right-vector is a vector as we understand them.\n",
    "\n",
    "Eigenvalues are coefficients applied to eigenvectors that give the vectors their length or magnitude. For example, a negative eigenvalue may reverse the direction of the eigenvector as part of scaling it.\n",
    "\n",
    "A matrix that has only positive eigenvalues is referred to as a positive definite matrix, whereas if the eigenvalues are all negative, it is referred to as a negative definite matrix."
   ]
  },
  {
   "cell_type": "code",
   "execution_count": 25,
   "metadata": {},
   "outputs": [
    {
     "name": "stdout",
     "output_type": "stream",
     "text": [
      "[[1 2 3]\n",
      " [4 5 6]\n",
      " [7 8 9]]\n",
      "[ 1.61168440e+01 -1.11684397e+00 -9.75918483e-16]\n",
      "[[-0.23197069 -0.78583024  0.40824829]\n",
      " [-0.52532209 -0.08675134 -0.81649658]\n",
      " [-0.8186735   0.61232756  0.40824829]]\n"
     ]
    }
   ],
   "source": [
    "# eigendecomposition\n",
    "from numpy import array\n",
    "from numpy.linalg import eig\n",
    "# define matrix\n",
    "A = array([[1, 2, 3], [4, 5, 6], [7, 8, 9]])\n",
    "print(A)\n",
    "# calculate eigendecomposition\n",
    "eigenvalues, eigenvectors = eig(A)\n",
    "print(eigenvalues)\n",
    "print(eigenvectors)"
   ]
  },
  {
   "cell_type": "code",
   "execution_count": 27,
   "metadata": {},
   "outputs": [
    {
     "name": "stdout",
     "output_type": "stream",
     "text": [
      "[ -3.73863537  -8.46653421 -13.19443305]\n",
      "[ -3.73863537  -8.46653421 -13.19443305]\n"
     ]
    }
   ],
   "source": [
    "# confirm first eigenvector - if we multiplies the original matrix with the first eigenvector it should be equal to \n",
    "# the first eigenvector multiplied by the first eigenvalue.\n",
    "B = A.dot(vectors[:, 0])\n",
    "print(B)\n",
    "C = vectors[:, 0] * values[0]\n",
    "print(C)"
   ]
  },
  {
   "cell_type": "markdown",
   "metadata": {},
   "source": [
    "We can reverse the process and reconstruct the original matrix given only the eigenvectors and eigenvalues.\n",
    "\n",
    "First, the list of eigenvectors must be converted into a matrix, where each vector becomes a row. The eigenvalues need to be arranged into a diagonal matrix. The NumPy diag() function can be used for this.\n",
    "\n",
    "Next, we need to calculate the inverse of the eigenvector matrix, which we can achieve with the inv() NumPy function. Finally, these elements need to be multiplied together with the dot() function."
   ]
  },
  {
   "cell_type": "code",
   "execution_count": 31,
   "metadata": {},
   "outputs": [
    {
     "name": "stdout",
     "output_type": "stream",
     "text": [
      "[[1. 2. 3.]\n",
      " [4. 5. 6.]\n",
      " [7. 8. 9.]]\n"
     ]
    }
   ],
   "source": [
    "# create inverse of eigenvectors matrix\n",
    "R = np.linalg.inv(eigenvectors)\n",
    "# create diagonal matrix from eigenvalues\n",
    "L = diag(eigenvalues)\n",
    "# reconstruct the original matrix\n",
    "B = eigenvectors.dot(L).dot(R)\n",
    "print(B)"
   ]
  },
  {
   "cell_type": "markdown",
   "metadata": {
    "collapsed": true
   },
   "source": [
    "## Sparse Matrix\n",
    "A sparse matrix is a matrix that is comprised of mostly zero values. Sparse matrices can cause problems with regards to the space needed to store them and the time needed for processing when many of the operations are against zero values.\n",
    "\n",
    "Sparse arrays can be represented by other structures that ignore the zero values and only hold the non-zero values. Sparse arrays can be represented as a dictionary of keys (map row, column to a value), a tuple list (tuple containing row, column, value), Compressed Sparse Row (CSR) using 3 1d arrays for the non-zero values, the row and column indexes, Compressed Sparse Column (CSC) same as CSR, but swapping the column and row indices. CSR is often used as it supports efficient access and matrix multiplication.\n",
    "\n",
    "SciPy provides tools for creating sparse matrices using multiple data structures, as well as tools for converting a dense matrix to a sparse matrix. These sparse matrices are compatible with many scipy and numpy functions."
   ]
  },
  {
   "cell_type": "code",
   "execution_count": 6,
   "metadata": {},
   "outputs": [
    {
     "name": "stdout",
     "output_type": "stream",
     "text": [
      "[[1 0 0 1 0 0]\n",
      " [0 0 2 0 0 1]\n",
      " [0 0 0 2 0 0]]\n",
      "Sparsity: 0.7222222222222222\n",
      "  (0, 0)\t1\n",
      "  (0, 3)\t1\n",
      "  (1, 2)\t2\n",
      "  (1, 5)\t1\n",
      "  (2, 3)\t2\n",
      "[[1 0 0 1 0 0]\n",
      " [0 0 2 0 0 1]\n",
      " [0 0 0 2 0 0]]\n"
     ]
    }
   ],
   "source": [
    "# dense to sparse\n",
    "from numpy import array, count_nonzero\n",
    "from scipy.sparse import csr_matrix\n",
    "\n",
    "# create dense matrix\n",
    "A = array([[1, 0, 0, 1, 0, 0], [0, 0, 2, 0, 0, 1], [0, 0, 0, 2, 0, 0]])\n",
    "print(A)\n",
    "\n",
    "# calculate sparsity\n",
    "sparsity = 1.0 - count_nonzero(A) / A.size\n",
    "print(\"Sparsity:\", sparsity)\n",
    "\n",
    "# convert to sparse matrix (CSR method)\n",
    "S = csr_matrix(A)\n",
    "print(S)\n",
    "\n",
    "# reconstruct dense matrix\n",
    "B = S.todense()\n",
    "print(B)"
   ]
  },
  {
   "cell_type": "code",
   "execution_count": null,
   "metadata": {
    "collapsed": true
   },
   "outputs": [],
   "source": []
  }
 ],
 "metadata": {
  "kernelspec": {
   "display_name": "Anaconda",
   "language": "python",
   "name": "anaconda"
  },
  "language_info": {
   "codemirror_mode": {
    "name": "ipython",
    "version": 3
   },
   "file_extension": ".py",
   "mimetype": "text/x-python",
   "name": "python",
   "nbconvert_exporter": "python",
   "pygments_lexer": "ipython3",
   "version": "3.6.4"
  }
 },
 "nbformat": 4,
 "nbformat_minor": 2
}
