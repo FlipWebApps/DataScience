{
 "cells": [
  {
   "cell_type": "markdown",
   "metadata": {},
   "source": [
    "## Keras Unsupervised\n",
    "Unsupervised clustering of MNIST using KMenas, Autoencoder to produce embedding + KMeans and DEC (Unsupervised Deep Embedding for Clustering Analysis).\n",
    "\n",
    "DEC: https://arxiv.org/abs/1511.06335"
   ]
  },
  {
   "cell_type": "code",
   "execution_count": 18,
   "metadata": {},
   "outputs": [],
   "source": [
    "import os\n",
    "import keras\n",
    "import numpy as np\n",
    "import pandas as pd\n",
    "import keras.backend as K\n",
    "\n",
    "from time import time\n",
    "\n",
    "from keras import callbacks\n",
    "from keras.datasets import mnist\n",
    "from keras.models import Model\n",
    "from keras.optimizers import SGD\n",
    "from keras.layers import Dense, Input\n",
    "from keras.initializers import VarianceScaling\n",
    "from keras.engine.topology import Layer, InputSpec\n",
    "from keras.utils import np_utils\n",
    "\n",
    "import matplotlib.pyplot as plt\n",
    "\n",
    "from scipy.misc import imread\n",
    "from sklearn.cluster import KMeans\n",
    "from sklearn.metrics import accuracy_score, normalized_mutual_info_score, adjusted_rand_score"
   ]
  },
  {
   "cell_type": "markdown",
   "metadata": {},
   "source": [
    "Load the mnist data and show a few samples"
   ]
  },
  {
   "cell_type": "code",
   "execution_count": 13,
   "metadata": {},
   "outputs": [],
   "source": [
    "# To stop potential randomness\n",
    "seed = 128\n",
    "rng = np.random.RandomState(seed)"
   ]
  },
  {
   "cell_type": "code",
   "execution_count": 14,
   "metadata": {},
   "outputs": [
    {
     "name": "stdout",
     "output_type": "stream",
     "text": [
      "(60000, 28, 28)\n",
      "(60000,)\n",
      "(10000, 28, 28)\n",
      "(10000,)\n"
     ]
    }
   ],
   "source": [
    "(X_train, y_train), (X_test, y_test) = mnist.load_data()\n",
    "print(X_train.shape)\n",
    "print(y_train.shape)\n",
    "print(X_test.shape)\n",
    "print(y_test.shape)"
   ]
  },
  {
   "cell_type": "code",
   "execution_count": 15,
   "metadata": {
    "scrolled": false
   },
   "outputs": [
    {
     "data": {
      "image/png": "[encoded data removed]",
      "text/plain": [
       "<Figure size 576x576 with 9 Axes>"
      ]
     },
     "metadata": {},
     "output_type": "display_data"
    }
   ],
   "source": [
    "fig=plt.figure(figsize=(8, 8))\n",
    "for i in range(9):\n",
    "    plt.subplot(3,3,i+1)\n",
    "    plt.title(\"Class {}\".format(y_train[i]))\n",
    "    plt.imshow(X_train[i], cmap='gray', interpolation='none')\n",
    "plt.tight_layout()"
   ]
  },
  {
   "cell_type": "markdown",
   "metadata": {},
   "source": [
    "The pixel values are gray scale between 0 and 255. It is almost always a good idea to perform some scaling of input values when using neural network models. Because the scale is well known and well behaved, we can very quickly normalize the pixel values to the range 0 and 1 by dividing each value by the maximum of 255."
   ]
  },
  {
   "cell_type": "code",
   "execution_count": 16,
   "metadata": {},
   "outputs": [],
   "source": [
    "# normalize inputs from 0-255 to 0-1\n",
    "X_train = X_train / 255\n",
    "X_test = X_test / 255"
   ]
  },
  {
   "cell_type": "markdown",
   "metadata": {},
   "source": [
    "Finally, the output variable is an integer from 0 to 9. As this is a multi-class classification problem we need to one hot encoding of the class values, transforming the vector of class integers into a binary matrix.\n",
    "\n",
    "We can easily do this using the built-in np_utils.to_categorical() helper function in Keras."
   ]
  },
  {
   "cell_type": "code",
   "execution_count": 19,
   "metadata": {},
   "outputs": [
    {
     "name": "stdout",
     "output_type": "stream",
     "text": [
      "(60000,)\n",
      "(10000,)\n",
      "[5 0 4 1 9 2 1 3 1 4]\n",
      "(60000, 10)\n",
      "(10000, 10)\n",
      "[[0. 0. 0. 0. 0. 1. 0. 0. 0. 0.]\n",
      " [1. 0. 0. 0. 0. 0. 0. 0. 0. 0.]\n",
      " [0. 0. 0. 0. 1. 0. 0. 0. 0. 0.]]\n"
     ]
    }
   ],
   "source": [
    "# one hot encode outputs and save original classes\n",
    "print(y_train.shape)\n",
    "print(y_test.shape)\n",
    "print(y_train[:10])\n",
    "y_train_classes = y_train.copy()\n",
    "y_test_classes = y_test.copy()\n",
    "y_train = np_utils.to_categorical(y_train_classes)\n",
    "y_test = np_utils.to_categorical(y_test_classes)\n",
    "num_classes = y_test.shape[1]\n",
    "print(y_train.shape)\n",
    "print(y_test.shape)\n",
    "print(y_train[:3])"
   ]
  },
  {
   "cell_type": "markdown",
   "metadata": {},
   "source": [
    "## K-Means with 10 clusters"
   ]
  },
  {
   "cell_type": "markdown",
   "metadata": {},
   "source": [
    "The training dataset is structured as a 3-dimensional array of (instance, image width and image height). Our neural-network is going to take a single vector for each training example, so we need to reshape the input so that each 28x28 image becomes a single 784 dimensional vector.\n",
    "\n",
    "We can do this transform easily using the reshape() function on the NumPy array. We can also reduce our memory requirements by forcing the precision of the pixel values to be 32 bit, the default precision used by Keras anyway."
   ]
  },
  {
   "cell_type": "code",
   "execution_count": 28,
   "metadata": {},
   "outputs": [
    {
     "name": "stdout",
     "output_type": "stream",
     "text": [
      "(60000, 784)\n",
      "(10000, 784)\n"
     ]
    }
   ],
   "source": [
    "# flatten 28*28 images to a 784 vector for each image\n",
    "num_pixels = X_train.shape[1] * X_train.shape[2]\n",
    "X_train_reshaped = X_train.reshape(X_train.shape[0], num_pixels).astype('float32')\n",
    "X_test_reshaped = X_test.reshape(X_test.shape[0], num_pixels).astype('float32')\n",
    "print(X_train_reshaped.shape)\n",
    "print(X_test_reshaped.shape)"
   ]
  },
  {
   "cell_type": "code",
   "execution_count": 20,
   "metadata": {},
   "outputs": [],
   "source": [
    "km = KMeans(n_jobs=-1, n_clusters=10, n_init=20)"
   ]
  },
  {
   "cell_type": "code",
   "execution_count": 23,
   "metadata": {},
   "outputs": [
    {
     "data": {
      "text/plain": [
       "KMeans(algorithm='auto', copy_x=True, init='k-means++', max_iter=300,\n",
       "    n_clusters=10, n_init=20, n_jobs=-1, precompute_distances='auto',\n",
       "    random_state=None, tol=0.0001, verbose=0)"
      ]
     },
     "execution_count": 23,
     "metadata": {},
     "output_type": "execute_result"
    }
   ],
   "source": [
    "km.fit(X_train_reshaped)"
   ]
  },
  {
   "cell_type": "code",
   "execution_count": 25,
   "metadata": {},
   "outputs": [],
   "source": [
    "pred = km.predict(X_test_reshaped)"
   ]
  },
  {
   "cell_type": "markdown",
   "metadata": {},
   "source": [
    "We will use Normalized Mutual Information (NMI) score to evaluate our model.\n",
    "Mutual information is a symmetric measure for the degree of dependency between the clustering and the manual classification. It is based on the notion of cluster purity pi, which measures the quality of a single cluster Ci, the largest number of objects in cluster Ci which Ci has in common with a manual class Mj, having compared Ci to all manual classes in M. Because NMI is normalized, we can use it to compare clusterings with different numbers of clusters."
   ]
  },
  {
   "cell_type": "code",
   "execution_count": 27,
   "metadata": {},
   "outputs": [
    {
     "data": {
      "text/plain": [
       "0.49920798984923836"
      ]
     },
     "execution_count": 27,
     "metadata": {},
     "output_type": "execute_result"
    }
   ],
   "source": [
    "normalized_mutual_info_score(y_test_classes, pred)"
   ]
  },
  {
   "cell_type": "markdown",
   "metadata": {},
   "source": [
    "## Autoencoder\n",
    "Instead of directly applying K-Means on the dataset, we will first use an autoencoder to decrease the dimensionality of the data and extract useful information. We will then use this embedding to pass on to the K-Means algorithm."
   ]
  },
  {
   "cell_type": "code",
   "execution_count": 32,
   "metadata": {},
   "outputs": [],
   "source": [
    "# this is our input placeholder\n",
    "input_img = Input(shape=(784,))\n",
    "\n",
    "# \"encoded\" is the encoded representation of the input\n",
    "encoded = Dense(500, activation='relu')(input_img)\n",
    "encoded = Dense(500, activation='relu')(encoded)\n",
    "encoded = Dense(2000, activation='relu')(encoded)\n",
    "encoded = Dense(10, activation='sigmoid')(encoded)\n",
    "\n",
    "# \"decoded\" is the lossy reconstruction of the input\n",
    "decoded = Dense(2000, activation='relu')(encoded)\n",
    "decoded = Dense(500, activation='relu')(decoded)\n",
    "decoded = Dense(500, activation='relu')(decoded)\n",
    "decoded = Dense(784)(decoded)\n",
    "\n",
    "#  this model maps an input to its encoded representation\n",
    "encoder = Model(input_img, encoded)\n",
    "\n",
    "# this model maps an input to its reconstruction\n",
    "autoencoder = Model(input_img, decoded)\n",
    "autoencoder.compile(optimizer='adam', loss='mse')"
   ]
  },
  {
   "cell_type": "code",
   "execution_count": 33,
   "metadata": {},
   "outputs": [
    {
     "name": "stdout",
     "output_type": "stream",
     "text": [
      "_________________________________________________________________\n",
      "Layer (type)                 Output Shape              Param #   \n",
      "=================================================================\n",
      "input_2 (InputLayer)         (None, 784)               0         \n",
      "_________________________________________________________________\n",
      "dense_9 (Dense)              (None, 500)               392500    \n",
      "_________________________________________________________________\n",
      "dense_10 (Dense)             (None, 500)               250500    \n",
      "_________________________________________________________________\n",
      "dense_11 (Dense)             (None, 2000)              1002000   \n",
      "_________________________________________________________________\n",
      "dense_12 (Dense)             (None, 10)                20010     \n",
      "_________________________________________________________________\n",
      "dense_13 (Dense)             (None, 2000)              22000     \n",
      "_________________________________________________________________\n",
      "dense_14 (Dense)             (None, 500)               1000500   \n",
      "_________________________________________________________________\n",
      "dense_15 (Dense)             (None, 500)               250500    \n",
      "_________________________________________________________________\n",
      "dense_16 (Dense)             (None, 784)               392784    \n",
      "=================================================================\n",
      "Total params: 3,330,794\n",
      "Trainable params: 3,330,794\n",
      "Non-trainable params: 0\n",
      "_________________________________________________________________\n",
      "None\n"
     ]
    }
   ],
   "source": [
    "print(autoencoder.summary())"
   ]
  },
  {
   "cell_type": "markdown",
   "metadata": {},
   "source": [
    "Fit the model"
   ]
  },
  {
   "cell_type": "code",
   "execution_count": 36,
   "metadata": {},
   "outputs": [
    {
     "name": "stdout",
     "output_type": "stream",
     "text": [
      "Train on 60000 samples, validate on 10000 samples\n",
      "Epoch 1/50\n",
      "60000/60000 [==============================] - 16s 271us/step - loss: 0.0153 - val_loss: 0.0157\n",
      "Epoch 2/50\n",
      "60000/60000 [==============================] - 16s 266us/step - loss: 0.0152 - val_loss: 0.0158\n",
      "Epoch 3/50\n",
      "60000/60000 [==============================] - 16s 259us/step - loss: 0.0151 - val_loss: 0.0158\n",
      "Epoch 4/50\n",
      "60000/60000 [==============================] - 16s 269us/step - loss: 0.0151 - val_loss: 0.0155\n",
      "Epoch 5/50\n",
      "60000/60000 [==============================] - 15s 258us/step - loss: 0.0150 - val_loss: 0.0155\n",
      "Epoch 6/50\n",
      "60000/60000 [==============================] - 15s 255us/step - loss: 0.0150 - val_loss: 0.0155\n",
      "Epoch 7/50\n",
      "60000/60000 [==============================] - 16s 261us/step - loss: 0.0148 - val_loss: 0.0154\n",
      "Epoch 8/50\n",
      "60000/60000 [==============================] - 16s 261us/step - loss: 0.0149 - val_loss: 0.0155\n",
      "Epoch 9/50\n",
      "60000/60000 [==============================] - 17s 287us/step - loss: 0.0148 - val_loss: 0.0153\n",
      "Epoch 10/50\n",
      "60000/60000 [==============================] - 17s 276us/step - loss: 0.0147 - val_loss: 0.0153\n",
      "Epoch 11/50\n",
      "60000/60000 [==============================] - 17s 290us/step - loss: 0.0147 - val_loss: 0.0152\n",
      "Epoch 12/50\n",
      "60000/60000 [==============================] - 16s 270us/step - loss: 0.0145 - val_loss: 0.0152\n",
      "Epoch 13/50\n",
      "60000/60000 [==============================] - 16s 274us/step - loss: 0.0145 - val_loss: 0.0151\n",
      "Epoch 14/50\n",
      "60000/60000 [==============================] - 17s 281us/step - loss: 0.0146 - val_loss: 0.0152\n",
      "Epoch 15/50\n",
      "60000/60000 [==============================] - 16s 267us/step - loss: 0.0144 - val_loss: 0.0150\n",
      "Epoch 16/50\n",
      "60000/60000 [==============================] - 16s 266us/step - loss: 0.0143 - val_loss: 0.0150\n",
      "Epoch 17/50\n",
      "60000/60000 [==============================] - 16s 259us/step - loss: 0.0144 - val_loss: 0.0151\n",
      "Epoch 18/50\n",
      "60000/60000 [==============================] - 15s 254us/step - loss: 0.0143 - val_loss: 0.0149\n",
      "Epoch 19/50\n",
      "60000/60000 [==============================] - 15s 252us/step - loss: 0.0143 - val_loss: 0.0149\n",
      "Epoch 20/50\n",
      "60000/60000 [==============================] - 16s 266us/step - loss: 0.0142 - val_loss: 0.0148\n",
      "Epoch 21/50\n",
      "60000/60000 [==============================] - 15s 256us/step - loss: 0.0141 - val_loss: 0.0148\n",
      "Epoch 22/50\n",
      "60000/60000 [==============================] - 15s 248us/step - loss: 0.0142 - val_loss: 0.0148\n",
      "Epoch 23/50\n",
      "60000/60000 [==============================] - 16s 261us/step - loss: 0.0140 - val_loss: 0.0147\n",
      "Epoch 24/50\n",
      "60000/60000 [==============================] - 16s 275us/step - loss: 0.0140 - val_loss: 0.0147\n",
      "Epoch 25/50\n",
      "60000/60000 [==============================] - 15s 252us/step - loss: 0.0139 - val_loss: 0.0147\n",
      "Epoch 26/50\n",
      "60000/60000 [==============================] - 15s 255us/step - loss: 0.0139 - val_loss: 0.0151\n",
      "Epoch 27/50\n",
      "60000/60000 [==============================] - 15s 256us/step - loss: 0.0139 - val_loss: 0.0146\n",
      "Epoch 28/50\n",
      "60000/60000 [==============================] - 15s 256us/step - loss: 0.0138 - val_loss: 0.0146\n",
      "Epoch 29/50\n",
      "60000/60000 [==============================] - 16s 261us/step - loss: 0.0138 - val_loss: 0.0148\n",
      "Epoch 30/50\n",
      "60000/60000 [==============================] - 16s 263us/step - loss: 0.0138 - val_loss: 0.0146\n",
      "Epoch 31/50\n",
      "60000/60000 [==============================] - 15s 254us/step - loss: 0.0136 - val_loss: 0.0145\n",
      "Epoch 32/50\n",
      "60000/60000 [==============================] - 15s 256us/step - loss: 0.0137 - val_loss: 0.0145\n",
      "Epoch 33/50\n",
      "60000/60000 [==============================] - 16s 259us/step - loss: 0.0136 - val_loss: 0.0145\n",
      "Epoch 34/50\n",
      "60000/60000 [==============================] - 16s 259us/step - loss: 0.0136 - val_loss: 0.0145\n",
      "Epoch 35/50\n",
      "60000/60000 [==============================] - 15s 252us/step - loss: 0.0135 - val_loss: 0.0144\n",
      "Epoch 36/50\n",
      "60000/60000 [==============================] - 15s 253us/step - loss: 0.0136 - val_loss: 0.0144\n",
      "Epoch 37/50\n",
      "60000/60000 [==============================] - 15s 250us/step - loss: 0.0134 - val_loss: 0.0143\n",
      "Epoch 38/50\n",
      "60000/60000 [==============================] - 15s 258us/step - loss: 0.0134 - val_loss: 0.0143\n",
      "Epoch 39/50\n",
      "60000/60000 [==============================] - 16s 263us/step - loss: 0.0134 - val_loss: 0.0143\n",
      "Epoch 40/50\n",
      "60000/60000 [==============================] - 17s 280us/step - loss: 0.0134 - val_loss: 0.0145\n",
      "Epoch 41/50\n",
      "60000/60000 [==============================] - 16s 268us/step - loss: 0.0134 - val_loss: 0.0142\n",
      "Epoch 42/50\n",
      "60000/60000 [==============================] - 16s 272us/step - loss: 0.0133 - val_loss: 0.0142\n",
      "Epoch 43/50\n",
      "60000/60000 [==============================] - 16s 267us/step - loss: 0.0132 - val_loss: 0.0142\n",
      "Epoch 44/50\n",
      "60000/60000 [==============================] - 17s 283us/step - loss: 0.0132 - val_loss: 0.0142\n",
      "Epoch 45/50\n",
      "60000/60000 [==============================] - 18s 298us/step - loss: 0.0132 - val_loss: 0.0141\n",
      "Epoch 46/50\n",
      "60000/60000 [==============================] - 18s 306us/step - loss: 0.0132 - val_loss: 0.0141\n",
      "Epoch 47/50\n",
      "60000/60000 [==============================] - 17s 280us/step - loss: 0.0131 - val_loss: 0.0142\n",
      "Epoch 48/50\n",
      "60000/60000 [==============================] - 16s 272us/step - loss: 0.0132 - val_loss: 0.0142\n",
      "Epoch 49/50\n",
      "60000/60000 [==============================] - 16s 265us/step - loss: 0.0130 - val_loss: 0.0141\n",
      "Epoch 50/50\n",
      "60000/60000 [==============================] - 16s 267us/step - loss: 0.0130 - val_loss: 0.0141\n"
     ]
    }
   ],
   "source": [
    "history = autoencoder.fit(X_train_reshaped, X_train_reshaped, epochs=50, batch_size=2048, validation_data=(X_test_reshaped, X_test_reshaped))\n"
   ]
  },
  {
   "cell_type": "markdown",
   "metadata": {},
   "source": [
    "Predict the embedded format for the training set using only the encoder part of the network and train the K-Means using this"
   ]
  },
  {
   "cell_type": "code",
   "execution_count": 39,
   "metadata": {},
   "outputs": [
    {
     "data": {
      "text/plain": [
       "KMeans(algorithm='auto', copy_x=True, init='k-means++', max_iter=300,\n",
       "    n_clusters=10, n_init=20, n_jobs=-1, precompute_distances='auto',\n",
       "    random_state=None, tol=0.0001, verbose=0)"
      ]
     },
     "execution_count": 39,
     "metadata": {},
     "output_type": "execute_result"
    }
   ],
   "source": [
    "pred_auto_train = encoder.predict(X_train_reshaped)\n",
    "km.fit(pred_auto_train)"
   ]
  },
  {
   "cell_type": "markdown",
   "metadata": {},
   "source": [
    "Predict using the test set."
   ]
  },
  {
   "cell_type": "code",
   "execution_count": 40,
   "metadata": {},
   "outputs": [],
   "source": [
    "pred_auto = encoder.predict(X_test_reshaped)\n",
    "pred = km.predict(pred_auto)"
   ]
  },
  {
   "cell_type": "code",
   "execution_count": 43,
   "metadata": {},
   "outputs": [
    {
     "data": {
      "text/plain": [
       "0.7414710645948941"
      ]
     },
     "execution_count": 43,
     "metadata": {},
     "output_type": "execute_result"
    }
   ],
   "source": [
    "normalized_mutual_info_score(y_test_classes, pred)"
   ]
  },
  {
   "cell_type": "markdown",
   "metadata": {},
   "source": [
    "## DEC\n",
    "State-of-the-art model – known as DEC algorithm. This algorithm trains both clustering and autoencoder models to get better performance.\n",
    "DEC Code from: https://github.com/XifengGuo/DEC-keras"
   ]
  },
  {
   "cell_type": "code",
   "execution_count": 72,
   "metadata": {},
   "outputs": [],
   "source": [
    "def accuracy(y_true, y_pred):\n",
    "    \"\"\"\n",
    "    Calculate clustering accuracy. Require scikit-learn installed\n",
    "    # Arguments\n",
    "        y: true labels, numpy.array with shape `(n_samples,)`\n",
    "        y_pred: predicted labels, numpy.array with shape `(n_samples,)`\n",
    "    # Return\n",
    "        accuracy, in [0,1]\n",
    "    \"\"\"\n",
    "    y_true = y_true.astype(np.int64)\n",
    "    assert y_pred.size == y_true.size\n",
    "    D = max(y_pred.max(), y_true.max()) + 1\n",
    "    w = np.zeros((D, D), dtype=np.int64)\n",
    "    for i in range(y_pred.size):\n",
    "        w[y_pred[i], y_true[i]] += 1\n",
    "    from sklearn.utils.linear_assignment_ import linear_assignment\n",
    "    ind = linear_assignment(w.max() - w)\n",
    "    return sum([w[i, j] for i, j in ind]) * 1.0 / y_pred.size"
   ]
  },
  {
   "cell_type": "code",
   "execution_count": 73,
   "metadata": {
    "scrolled": false
   },
   "outputs": [],
   "source": [
    "\"\"\"\n",
    "Keras implementation for Deep Embedded Clustering (DEC) algorithm:\n",
    "\n",
    "Original Author:\n",
    "    Xifeng Guo. 2017.1.30\n",
    "\"\"\"\n",
    "\n",
    "\n",
    "def autoencoder(dims, act='relu', init='glorot_uniform'):\n",
    "    \"\"\"\n",
    "    Fully connected auto-encoder model, symmetric.\n",
    "    Arguments:\n",
    "        dims: list of number of units in each layer of encoder. dims[0] is input dim, dims[-1] is units in hidden layer.\n",
    "            The decoder is symmetric with encoder. So number of layers of the auto-encoder is 2*len(dims)-1\n",
    "        act: activation, not applied to Input, Hidden and Output layers\n",
    "    return:\n",
    "        (ae_model, encoder_model), Model of autoencoder and model of encoder\n",
    "    \"\"\"\n",
    "    n_stacks = len(dims) - 1\n",
    "    # input\n",
    "    x = Input(shape=(dims[0],), name='input')\n",
    "    h = x\n",
    "\n",
    "    # internal layers in encoder\n",
    "    for i in range(n_stacks-1):\n",
    "        h = Dense(dims[i + 1], activation=act, kernel_initializer=init, name='encoder_%d' % i)(h)\n",
    "\n",
    "    # hidden layer\n",
    "    h = Dense(dims[-1], kernel_initializer=init, name='encoder_%d' % (n_stacks - 1))(h)  # hidden layer, features are extracted from here\n",
    "\n",
    "    y = h\n",
    "    # internal layers in decoder\n",
    "    for i in range(n_stacks-1, 0, -1):\n",
    "        y = Dense(dims[i], activation=act, kernel_initializer=init, name='decoder_%d' % i)(y)\n",
    "\n",
    "    # output\n",
    "    y = Dense(dims[0], kernel_initializer=init, name='decoder_0')(y)\n",
    "\n",
    "    return Model(inputs=x, outputs=y, name='AE'), Model(inputs=x, outputs=h, name='encoder')\n",
    "\n",
    "\n",
    "class ClusteringLayer(Layer):\n",
    "    \"\"\"\n",
    "    Clustering layer converts input sample (feature) to soft label, i.e. a vector that represents the probability of the\n",
    "    sample belonging to each cluster. The probability is calculated with student's t-distribution.\n",
    "\n",
    "    # Example\n",
    "    ```\n",
    "        model.add(ClusteringLayer(n_clusters=10))\n",
    "    ```\n",
    "    # Arguments\n",
    "        n_clusters: number of clusters.\n",
    "        weights: list of Numpy array with shape `(n_clusters, n_features)` witch represents the initial cluster centers.\n",
    "        alpha: parameter in Student's t-distribution. Default to 1.0.\n",
    "    # Input shape\n",
    "        2D tensor with shape: `(n_samples, n_features)`.\n",
    "    # Output shape\n",
    "        2D tensor with shape: `(n_samples, n_clusters)`.\n",
    "    \"\"\"\n",
    "\n",
    "    def __init__(self, n_clusters, weights=None, alpha=1.0, **kwargs):\n",
    "        if 'input_shape' not in kwargs and 'input_dim' in kwargs:\n",
    "            kwargs['input_shape'] = (kwargs.pop('input_dim'),)\n",
    "        super(ClusteringLayer, self).__init__(**kwargs)\n",
    "        self.n_clusters = n_clusters\n",
    "        self.alpha = alpha\n",
    "        self.initial_weights = weights\n",
    "        self.input_spec = InputSpec(ndim=2)\n",
    "\n",
    "    def build(self, input_shape):\n",
    "        assert len(input_shape) == 2\n",
    "        input_dim = input_shape[1]\n",
    "        self.input_spec = InputSpec(dtype=K.floatx(), shape=(None, input_dim))\n",
    "        self.clusters = self.add_weight((self.n_clusters, input_dim), initializer='glorot_uniform', name='clusters')\n",
    "        if self.initial_weights is not None:\n",
    "            self.set_weights(self.initial_weights)\n",
    "            del self.initial_weights\n",
    "        self.built = True\n",
    "\n",
    "    def call(self, inputs, **kwargs):\n",
    "        \"\"\" student t-distribution, as same as used in t-SNE algorithm.\n",
    "                 q_ij = 1/(1+dist(x_i, u_j)^2), then normalize it.\n",
    "        Arguments:\n",
    "            inputs: the variable containing data, shape=(n_samples, n_features)\n",
    "        Return:\n",
    "            q: student's t-distribution, or soft labels for each sample. shape=(n_samples, n_clusters)\n",
    "        \"\"\"\n",
    "        q = 1.0 / (1.0 + (K.sum(K.square(K.expand_dims(inputs, axis=1) - self.clusters), axis=2) / self.alpha))\n",
    "        q **= (self.alpha + 1.0) / 2.0\n",
    "        q = K.transpose(K.transpose(q) / K.sum(q, axis=1))\n",
    "        return q\n",
    "\n",
    "    def compute_output_shape(self, input_shape):\n",
    "        assert input_shape and len(input_shape) == 2\n",
    "        return input_shape[0], self.n_clusters\n",
    "\n",
    "    def get_config(self):\n",
    "        config = {'n_clusters': self.n_clusters}\n",
    "        base_config = super(ClusteringLayer, self).get_config()\n",
    "        return dict(list(base_config.items()) + list(config.items()))\n",
    "\n",
    "\n",
    "class DEC(object):\n",
    "    def __init__(self,\n",
    "                 dims,\n",
    "                 n_clusters=10,\n",
    "                 alpha=1.0,\n",
    "                 init='glorot_uniform'):\n",
    "\n",
    "        super(DEC, self).__init__()\n",
    "\n",
    "        self.dims = dims\n",
    "        self.input_dim = dims[0]\n",
    "        self.n_stacks = len(self.dims) - 1\n",
    "\n",
    "        self.n_clusters = n_clusters\n",
    "        self.alpha = alpha\n",
    "        self.autoencoder, self.encoder = autoencoder(self.dims, init=init)\n",
    "\n",
    "        # prepare DEC model\n",
    "        clustering_layer = ClusteringLayer(self.n_clusters, name='clustering')(self.encoder.output)\n",
    "        self.model = Model(inputs=self.encoder.input, outputs=clustering_layer)\n",
    "\n",
    "    def pretrain(self, x, y=None, optimizer='adam', epochs=200, batch_size=256, save_dir='results/temp'):\n",
    "        print('...Pretraining...')\n",
    "        self.autoencoder.compile(optimizer=optimizer, loss='mse')\n",
    "\n",
    "        csv_logger = callbacks.CSVLogger(save_dir + '/pretrain_log.csv')\n",
    "        cb = [csv_logger]\n",
    "        if y is not None:\n",
    "            class PrintACC(callbacks.Callback):\n",
    "                def __init__(self, x, y):\n",
    "                    self.x = x\n",
    "                    self.y = y\n",
    "                    super(PrintACC, self).__init__()\n",
    "\n",
    "                def on_epoch_end(self, epoch, logs=None):\n",
    "                    if epoch % int(epochs/10) != 0:\n",
    "                        return\n",
    "                    feature_model = Model(self.model.input,\n",
    "                                          self.model.get_layer(\n",
    "                                              'encoder_%d' % (int(len(self.model.layers) / 2) - 1)).output)\n",
    "                    features = feature_model.predict(self.x)\n",
    "                    km = KMeans(n_clusters=len(np.unique(self.y)), n_init=20, n_jobs=4)\n",
    "                    y_pred = km.fit_predict(features)\n",
    "                    # print()\n",
    "                    print(' '*8 + '|==>  acc: %.4f,  nmi: %.4f  <==|'\n",
    "                          % (accuracy(self.y, y_pred), normalized_mutual_info_score(self.y, y_pred)))\n",
    "\n",
    "            cb.append(PrintACC(x, y))\n",
    "\n",
    "        # begin pretraining\n",
    "        t0 = time()\n",
    "        self.autoencoder.fit(x, x, batch_size=batch_size, epochs=epochs, callbacks=cb)\n",
    "        print('Pretraining time: ', time() - t0)\n",
    "        self.autoencoder.save_weights(save_dir + '/ae_weights.h5')\n",
    "        print('Pretrained weights are saved to %s/ae_weights.h5' % save_dir)\n",
    "        self.pretrained = True\n",
    "\n",
    "    def load_weights(self, weights):  # load weights of DEC model\n",
    "        self.model.load_weights(weights)\n",
    "\n",
    "    def extract_features(self, x):\n",
    "        return self.encoder.predict(x)\n",
    "\n",
    "    def predict(self, x):  # predict cluster labels using the output of clustering layer\n",
    "        q = self.model.predict(x, verbose=0)\n",
    "        return q.argmax(1)\n",
    "\n",
    "    @staticmethod\n",
    "    def target_distribution(q):\n",
    "        weight = q ** 2 / q.sum(0)\n",
    "        return (weight.T / weight.sum(1)).T\n",
    "\n",
    "    def compile(self, optimizer='sgd', loss='kld'):\n",
    "        self.model.compile(optimizer=optimizer, loss=loss)\n",
    "\n",
    "    def fit(self, x, y=None, maxiter=2e4, batch_size=256, tol=1e-3,\n",
    "            update_interval=140, save_dir='./results/temp'):\n",
    "\n",
    "        print('Update interval', update_interval)\n",
    "        save_interval = x.shape[0] / batch_size * 5  # 5 epochs\n",
    "        print('Save interval', save_interval)\n",
    "\n",
    "        # Step 1: initialize cluster centers using k-means\n",
    "        t1 = time()\n",
    "        print('Initializing cluster centers with k-means.')\n",
    "        kmeans = KMeans(n_clusters=self.n_clusters, n_init=20)\n",
    "        y_pred = kmeans.fit_predict(self.encoder.predict(x))\n",
    "        y_pred_last = np.copy(y_pred)\n",
    "        self.model.get_layer(name='clustering').set_weights([kmeans.cluster_centers_])\n",
    "\n",
    "        # Step 2: deep clustering\n",
    "        # logging file\n",
    "        import csv\n",
    "        logfile = open(save_dir + '/dec_log.csv', 'w')\n",
    "        logwriter = csv.DictWriter(logfile, fieldnames=['iter', 'acc', 'nmi', 'ari', 'loss'])\n",
    "        logwriter.writeheader()\n",
    "\n",
    "        loss = 0\n",
    "        index = 0\n",
    "        index_array = np.arange(x.shape[0])\n",
    "        for ite in range(int(maxiter)):\n",
    "            if ite % update_interval == 0:\n",
    "                q = self.model.predict(x, verbose=0)\n",
    "                p = self.target_distribution(q)  # update the auxiliary target distribution p\n",
    "\n",
    "                # evaluate the clustering performance\n",
    "                y_pred = q.argmax(1)\n",
    "                if y is not None:\n",
    "                    acc = np.round(accuracy(y, y_pred), 5)\n",
    "                    nmi = np.round(normalized_mutual_info_score(y, y_pred), 5)\n",
    "                    ari = np.round(adjusted_rand_score(y, y_pred), 5)\n",
    "                    loss = np.round(loss, 5)\n",
    "                    logdict = dict(iter=ite, acc=acc, nmi=nmi, ari=ari, loss=loss)\n",
    "                    logwriter.writerow(logdict)\n",
    "                    print('Iter %d: acc = %.5f, nmi = %.5f, ari = %.5f' % (ite, acc, nmi, ari), ' ; loss=', loss)\n",
    "\n",
    "                # check stop criterion\n",
    "                delta_label = np.sum(y_pred != y_pred_last).astype(np.float32) / y_pred.shape[0]\n",
    "                y_pred_last = np.copy(y_pred)\n",
    "                if ite > 0 and delta_label < tol:\n",
    "                    print('delta_label ', delta_label, '< tol ', tol)\n",
    "                    print('Reached tolerance threshold. Stopping training.')\n",
    "                    logfile.close()\n",
    "                    break\n",
    "\n",
    "            # train on batch\n",
    "            # if index == 0:\n",
    "            #     np.random.shuffle(index_array)\n",
    "            idx = index_array[index * batch_size: min((index+1) * batch_size, x.shape[0])]\n",
    "            self.model.train_on_batch(x=x[idx], y=p[idx])\n",
    "            index = index + 1 if (index + 1) * batch_size <= x.shape[0] else 0\n",
    "\n",
    "            # save intermediate model\n",
    "            if ite % save_interval == 0:\n",
    "                print('saving model to:', save_dir + '/DEC_model_' + str(ite) + '.h5')\n",
    "                self.model.save_weights(save_dir + '/DEC_model_' + str(ite) + '.h5')\n",
    "\n",
    "            ite += 1\n",
    "\n",
    "        # save the trained model\n",
    "        logfile.close()\n",
    "        print('saving model to:', save_dir + '/DEC_model_final.h5')\n",
    "        self.model.save_weights(save_dir + '/DEC_model_final.h5')\n",
    "\n",
    "        return y_pred"
   ]
  },
  {
   "cell_type": "code",
   "execution_count": 74,
   "metadata": {
    "scrolled": false
   },
   "outputs": [
    {
     "name": "stdout",
     "output_type": "stream",
     "text": [
      "...Pretraining...\n",
      "Epoch 1/20\n",
      "60000/60000 [==============================] - 15s 250us/step - loss: 0.0748\n",
      "        |==>  acc: 0.1892,  nmi: 0.1051  <==|\n",
      "Epoch 2/20\n",
      "60000/60000 [==============================] - 14s 237us/step - loss: 0.0636\n",
      "Epoch 3/20\n",
      "60000/60000 [==============================] - 14s 236us/step - loss: 0.0629\n",
      "        |==>  acc: 0.3910,  nmi: 0.2941  <==|\n",
      "Epoch 4/20\n",
      "60000/60000 [==============================] - 15s 252us/step - loss: 0.0541\n",
      "Epoch 5/20\n",
      "60000/60000 [==============================] - 16s 267us/step - loss: 0.0474\n",
      "        |==>  acc: 0.4658,  nmi: 0.4160  <==|\n",
      "Epoch 6/20\n",
      "60000/60000 [==============================] - 17s 290us/step - loss: 0.0401\n",
      "Epoch 7/20\n",
      "60000/60000 [==============================] - 17s 289us/step - loss: 0.0347\n",
      "        |==>  acc: 0.5547,  nmi: 0.5237  <==|\n",
      "Epoch 8/20\n",
      "60000/60000 [==============================] - 17s 289us/step - loss: 0.0311\n",
      "Epoch 9/20\n",
      "60000/60000 [==============================] - 18s 308us/step - loss: 0.0288\n",
      "        |==>  acc: 0.5653,  nmi: 0.5374  <==|\n",
      "Epoch 10/20\n",
      "60000/60000 [==============================] - 17s 276us/step - loss: 0.0268\n",
      "Epoch 11/20\n",
      "60000/60000 [==============================] - 17s 287us/step - loss: 0.0246\n",
      "        |==>  acc: 0.5538,  nmi: 0.5272  <==|\n",
      "Epoch 12/20\n",
      "60000/60000 [==============================] - 17s 284us/step - loss: 0.0231\n",
      "Epoch 13/20\n",
      "60000/60000 [==============================] - 17s 284us/step - loss: 0.0217\n",
      "        |==>  acc: 0.5903,  nmi: 0.5556  <==|\n",
      "Epoch 14/20\n",
      "60000/60000 [==============================] - 16s 274us/step - loss: 0.0207\n",
      "Epoch 15/20\n",
      "60000/60000 [==============================] - 16s 268us/step - loss: 0.0200\n",
      "        |==>  acc: 0.5977,  nmi: 0.5615  <==|\n",
      "Epoch 16/20\n",
      "60000/60000 [==============================] - 16s 267us/step - loss: 0.0193\n",
      "Epoch 17/20\n",
      "60000/60000 [==============================] - 16s 270us/step - loss: 0.0188\n",
      "        |==>  acc: 0.5784,  nmi: 0.5538  <==|\n",
      "Epoch 18/20\n",
      "60000/60000 [==============================] - 17s 275us/step - loss: 0.0183\n",
      "Epoch 19/20\n",
      "60000/60000 [==============================] - 17s 276us/step - loss: 0.0179\n",
      "        |==>  acc: 0.6901,  nmi: 0.6136  <==|\n",
      "Epoch 20/20\n",
      "60000/60000 [==============================] - 16s 272us/step - loss: 0.0177\n",
      "Pretraining time:  468.59100437164307\n",
      "Pretrained weights are saved to results/ae_weights.h5\n"
     ]
    }
   ],
   "source": [
    "# setting the hyper parameters\n",
    "init = 'glorot_uniform'\n",
    "pretrain_optimizer = 'adam'\n",
    "dataset = 'mnist'\n",
    "batch_size = 2048\n",
    "maxiter = 2e4\n",
    "tol = 0.001\n",
    "save_dir = 'results'\n",
    "\n",
    "import os\n",
    "if not os.path.exists(save_dir):\n",
    "    os.makedirs(save_dir)\n",
    "\n",
    "update_interval = 200\n",
    "pretrain_epochs = 20 #500\n",
    "init = VarianceScaling(scale=1. / 3., mode='fan_in',\n",
    "                       distribution='uniform')  # [-limit, limit], limit=sqrt(1./fan_in)\n",
    "#pretrain_optimizer = SGD(lr=1, momentum=0.9)\n",
    "\n",
    "\n",
    "# prepare the DEC model\n",
    "dec = DEC(dims=[X_train_reshaped.shape[-1], 500, 500, 2000, 10], n_clusters=10, init=init)\n",
    "\n",
    "dec.pretrain(x=X_train_reshaped, y=y_train_classes, optimizer=pretrain_optimizer,\n",
    "             epochs=pretrain_epochs, batch_size=batch_size,\n",
    "             save_dir=save_dir)"
   ]
  },
  {
   "cell_type": "code",
   "execution_count": 75,
   "metadata": {},
   "outputs": [
    {
     "name": "stdout",
     "output_type": "stream",
     "text": [
      "_________________________________________________________________\n",
      "Layer (type)                 Output Shape              Param #   \n",
      "=================================================================\n",
      "input (InputLayer)           (None, 784)               0         \n",
      "_________________________________________________________________\n",
      "encoder_0 (Dense)            (None, 500)               392500    \n",
      "_________________________________________________________________\n",
      "encoder_1 (Dense)            (None, 500)               250500    \n",
      "_________________________________________________________________\n",
      "encoder_2 (Dense)            (None, 2000)              1002000   \n",
      "_________________________________________________________________\n",
      "encoder_3 (Dense)            (None, 10)                20010     \n",
      "_________________________________________________________________\n",
      "clustering (ClusteringLayer) (None, 10)                100       \n",
      "=================================================================\n",
      "Total params: 1,665,110\n",
      "Trainable params: 1,665,110\n",
      "Non-trainable params: 0\n",
      "_________________________________________________________________\n"
     ]
    }
   ],
   "source": [
    "dec.model.summary()"
   ]
  },
  {
   "cell_type": "code",
   "execution_count": 76,
   "metadata": {},
   "outputs": [],
   "source": [
    "dec.compile(optimizer=SGD(0.01, 0.9), loss='kld')"
   ]
  },
  {
   "cell_type": "code",
   "execution_count": 78,
   "metadata": {},
   "outputs": [
    {
     "name": "stdout",
     "output_type": "stream",
     "text": [
      "Update interval 200\n",
      "Save interval 146.484375\n",
      "Initializing cluster centers with k-means.\n",
      "Iter 0: acc = 0.69502, nmi = 0.61950, ari = 0.53423  ; loss= 0\n",
      "saving model to: results/DEC_model_0.h5\n",
      "Iter 200: acc = 0.70308, nmi = 0.62660, ari = 0.54858  ; loss= 0\n",
      "Iter 400: acc = 0.70738, nmi = 0.63395, ari = 0.55879  ; loss= 0\n",
      "Iter 600: acc = 0.71025, nmi = 0.64341, ari = 0.56714  ; loss= 0\n",
      "Iter 800: acc = 0.71378, nmi = 0.65335, ari = 0.57532  ; loss= 0\n",
      "Iter 1000: acc = 0.71602, nmi = 0.66052, ari = 0.58028  ; loss= 0\n",
      "Iter 1200: acc = 0.71755, nmi = 0.66547, ari = 0.58373  ; loss= 0\n",
      "Iter 1400: acc = 0.71943, nmi = 0.66971, ari = 0.58691  ; loss= 0\n",
      "Iter 1600: acc = 0.72147, nmi = 0.67373, ari = 0.59025  ; loss= 0\n",
      "Iter 1800: acc = 0.72342, nmi = 0.67680, ari = 0.59269  ; loss= 0\n",
      "Iter 2000: acc = 0.72528, nmi = 0.67963, ari = 0.59492  ; loss= 0\n",
      "Iter 2200: acc = 0.72697, nmi = 0.68164, ari = 0.59712  ; loss= 0\n",
      "Iter 2400: acc = 0.72812, nmi = 0.68329, ari = 0.59847  ; loss= 0\n",
      "Iter 2600: acc = 0.72932, nmi = 0.68504, ari = 0.60011  ; loss= 0\n",
      "Iter 2800: acc = 0.72948, nmi = 0.68523, ari = 0.60035  ; loss= 0\n",
      "Iter 3000: acc = 0.73038, nmi = 0.68631, ari = 0.60146  ; loss= 0\n",
      "Iter 3200: acc = 0.73093, nmi = 0.68712, ari = 0.60226  ; loss= 0\n",
      "Iter 3400: acc = 0.73135, nmi = 0.68786, ari = 0.60303  ; loss= 0\n",
      "Iter 3600: acc = 0.73150, nmi = 0.68798, ari = 0.60311  ; loss= 0\n",
      "Iter 3800: acc = 0.73165, nmi = 0.68837, ari = 0.60353  ; loss= 0\n",
      "Iter 4000: acc = 0.73205, nmi = 0.68878, ari = 0.60417  ; loss= 0\n",
      "Iter 4200: acc = 0.73230, nmi = 0.68899, ari = 0.60441  ; loss= 0\n",
      "Iter 4400: acc = 0.73233, nmi = 0.68893, ari = 0.60445  ; loss= 0\n",
      "Iter 4600: acc = 0.73282, nmi = 0.68940, ari = 0.60511  ; loss= 0\n",
      "Iter 4800: acc = 0.73267, nmi = 0.68910, ari = 0.60484  ; loss= 0\n",
      "Iter 5000: acc = 0.73283, nmi = 0.68941, ari = 0.60505  ; loss= 0\n",
      "Iter 5200: acc = 0.73303, nmi = 0.68961, ari = 0.60539  ; loss= 0\n",
      "Iter 5400: acc = 0.73308, nmi = 0.68951, ari = 0.60534  ; loss= 0\n",
      "delta_label  0.0009666666666666667 < tol  0.001\n",
      "Reached tolerance threshold. Stopping training.\n",
      "saving model to: results/DEC_model_final.h5\n"
     ]
    }
   ],
   "source": [
    "y_pred = dec.fit(X_train_reshaped, y=y_train_classes, tol=tol, maxiter=maxiter, batch_size=batch_size,\n",
    "                 update_interval=update_interval, save_dir=save_dir)"
   ]
  },
  {
   "cell_type": "code",
   "execution_count": 79,
   "metadata": {},
   "outputs": [],
   "source": [
    "pred_val = dec.predict(X_test_reshaped)"
   ]
  },
  {
   "cell_type": "code",
   "execution_count": 80,
   "metadata": {},
   "outputs": [
    {
     "data": {
      "text/plain": [
       "0.6981151525389725"
      ]
     },
     "execution_count": 80,
     "metadata": {},
     "output_type": "execute_result"
    }
   ],
   "source": [
    "normalized_mutual_info_score(y_test_classes, pred_val)"
   ]
  },
  {
   "cell_type": "code",
   "execution_count": null,
   "metadata": {},
   "outputs": [],
   "source": []
  }
 ],
 "metadata": {
  "kernelspec": {
   "display_name": "Python (tensorflow)",
   "language": "python",
   "name": "tensorflow"
  },
  "language_info": {
   "codemirror_mode": {
    "name": "ipython",
    "version": 3
   },
   "file_extension": ".py",
   "mimetype": "text/x-python",
   "name": "python",
   "nbconvert_exporter": "python",
   "pygments_lexer": "ipython3",
   "version": "3.6.5"
  }
 },
 "nbformat": 4,
 "nbformat_minor": 2
}
