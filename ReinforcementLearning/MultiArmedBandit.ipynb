{
 "cells": [
  {
   "cell_type": "markdown",
   "metadata": {},
   "source": [
    "# Multi Armed Bandit \n",
    "The term multi armed bandit comes from a certain type of slot machines where at each step there are multiple options a player can take, each of which has an unknown probability of payout. The goal is to learn the optimal machine to play through experimentation so that we maximise the payout.\n",
    "\n",
    "#image\n",
    "    \n",
    "More generically, we have a problem with a fixed set of options / actions that can be taken at each step, where each returns some sort of reward based upon a stationary probability distribution. We need to maximise the total reward over a given number of steps / iterations.\n",
    "\n",
    "### Assumptions\n",
    "* We make the assumption that selection of actions is independent and so taking an action will not have any impact of subsequent actions.\n",
    "* The probability distribution for the reward is stationary and so has a fixed mean and standard deviation.\n",
    "\n",
    "The Multi Armed Bandit problem is considered a basic building block for understanding how more advanced RL algorithms work, in particular when extending the concept to consider state and dependencies.\n",
    "\n",
    "## The Simplest Case - a Constant Reward\n",
    "The simplest case of the multi armed bandit problem would be if each bandit gave a single constant reward. Although not very interesting we present a solution as an introduction to further cases. \n",
    "\n",
    "As the reward is fixed we need to only try each bandit exactly once to determine what reward each returns. We can then always take that same action.\n",
    "\n",
    "Note: in the below we see the action internals including rewards and the implementation. In a real world scenario such details would be hidden and we might have no prior knowledge about the reward structure"
   ]
  },
  {
   "cell_type": "code",
   "execution_count": 18,
   "metadata": {
    "collapsed": true
   },
   "outputs": [],
   "source": [
    "import numpy as np\n",
    "import matplotlib.pyplot as plt\n",
    "import pandas as pd"
   ]
  },
  {
   "cell_type": "code",
   "execution_count": 1,
   "metadata": {},
   "outputs": [
    {
     "name": "stdout",
     "output_type": "stream",
     "text": [
      "Max reward index is 0 (zero based)\n",
      "Max reward index is 2 (zero based)\n"
     ]
    }
   ],
   "source": [
    "class ActionStatic:\n",
    "    \"\"\"\n",
    "    Class representing an action that can be taken.\n",
    "    Acting with this action will give a static reward\n",
    "    \"\"\"\n",
    "\n",
    "    def __init__(self, reward):\n",
    "        self.reward = reward\n",
    "\n",
    "    def act(self):\n",
    "        return self.reward\n",
    "\n",
    "\n",
    "def create_actions(rewards):\n",
    "    \"\"\"\n",
    "    Creates actions based upon the passed configuration.\n",
    "    \"\"\"\n",
    "    actions = [ActionStatic(reward) for reward in rewards]\n",
    "    return actions\n",
    "\n",
    "\n",
    "def run_experiment(actions):\n",
    "    \"\"\"\n",
    "    Run an experiment assuming we don't know about the rewards the actions return\n",
    "    \"\"\"\n",
    "    rewards = [action.act() for action in actions]\n",
    "    max_reward_index = np.argmax(rewards)\n",
    "    return max_reward_index\n",
    "\n",
    "\n",
    "# Initialise the bandits\n",
    "max_reward_index = run_experiment(create_actions([10, 2, 0.5]))\n",
    "print(\"Max reward index is {} (zero based)\".format(max_reward_index))\n",
    "max_reward_index = run_experiment(create_actions([1, 2, 3.5]))\n",
    "print(\"Max reward index is {} (zero based)\".format(max_reward_index))\n"
   ]
  },
  {
   "cell_type": "markdown",
   "metadata": {},
   "source": [
    "## Finding an Actions Value\n",
    "In most cases we won't be getting a fixed value. Instead there will likely be some noise (intended or random) meaning we will receive rewards from some sort of gaussian distribution. This presents a new problem as we can't just sample each action once and then always use the highest scoring action as we may have gotten a value that is lower / higher than the actions mean reward and so be running with a sub optimal strategy. The *law of large numbers* states that the average result from repeating an experiment multiple times will better approximate the true or expected underlying result so we will need to repeatedly trigger the actions multiple times to try and identify the true mean of the rewards known as the actions *value* (v).\n",
    "\n",
    "As we are looking for an optimal strategy, we also need to consider how we balancing *exploration* (looking for new better values) v's *exploitation* (just going with the current best solution). We will use the *epsilon-greedy* approach that uses a simple probability measure to determine which option to take.\n",
    "\n",
    "Note: in the below we see the action internals including rewards and the implementation. In a real world scenario such details would be hidden and we might have no prior knowledge about the reward structure"
   ]
  },
  {
   "cell_type": "code",
   "execution_count": 81,
   "metadata": {
    "collapsed": true
   },
   "outputs": [],
   "source": [
    "import numpy as np\n",
    "import matplotlib.pyplot as plt\n",
    "\n",
    "class ActionNormal:\n",
    "    \"\"\"\n",
    "    Class representing an action that can be taken.\n",
    "    Acting with this action will give a reward pulled from a normal distribution (variance 1) around a specific mean.\n",
    "    \"\"\"\n",
    "\n",
    "    def __init__(self, reward_mean, reward_dist_multiplier = 1):\n",
    "        self.reward_mean = reward_mean\n",
    "        self.reward_dist_multiplier = reward_dist_multiplier\n",
    "\n",
    "    def act(self):\n",
    "        return (self.reward_dist_multiplier * np.random.randn()) + self.reward_mean\n",
    "\n",
    "\n",
    "def create_actions(reward_stats):\n",
    "    \"\"\"\n",
    "    Creates actions based upon the passed configuration.\n",
    "    \"\"\"\n",
    "    actions = [ActionNormal(reward_mean, reward_dist_multiplier) for reward_mean, reward_dist_multiplier in reward_stats]\n",
    "    return actions"
   ]
  },
  {
   "cell_type": "markdown",
   "metadata": {},
   "source": [
    "Create a set of actions that we will use different mean values and distributions (here from a normal distribution with variance 1 and only different means)"
   ]
  },
  {
   "cell_type": "code",
   "execution_count": 84,
   "metadata": {
    "collapsed": true
   },
   "outputs": [],
   "source": [
    "steps = 100000\n",
    "actions = create_actions([(1, 1), (2, 1), (3, 1)])"
   ]
  },
  {
   "cell_type": "code",
   "execution_count": 85,
   "metadata": {},
   "outputs": [
    {
     "data": {
      "image/png": "[encoded data removed]",
      "text/plain": [
       "<Figure size 432x288 with 1 Axes>"
      ]
     },
     "metadata": {},
     "output_type": "display_data"
    }
   ],
   "source": [
    "import seaborn as sns\n",
    "for i in range(3):\n",
    "    sns.kdeplot([actions[i].act() for x in range(1000)], label=\"action: \" + str(i))\n",
    "plt.legend();"
   ]
  },
  {
   "cell_type": "markdown",
   "metadata": {},
   "source": [
    "We try running the above experiment for different epsilon values to see how differente exploration / exploitation values affect the cumulative reward. We expect the returned value functions for the different actions to approximate the mean value that the actions are created with."
   ]
  },
  {
   "cell_type": "code",
   "execution_count": 86,
   "metadata": {
    "collapsed": true
   },
   "outputs": [],
   "source": [
    "def run_experiment(actions, epsilon, steps, epsilon_decay=1):\n",
    "    \"\"\"\n",
    "    Run an experiment assuming we don't know about the rewards the actions return\n",
    "    \"\"\"\n",
    "    action_count = len(actions)\n",
    "    # N represents the number of time each action has been tried\n",
    "    N = np.zeros(action_count)\n",
    "    # V represents the value of an action\n",
    "    V = np.zeros(action_count)\n",
    "    # accumulated rewards\n",
    "    total_average_reward = 0\n",
    "    running_mean_reward = np.zeros(steps)\n",
    "\n",
    "    for i in range(steps):\n",
    "        # epsilon greedy for explore / exploit\n",
    "        r = np.random.random()\n",
    "        if r < epsilon:\n",
    "            action_index = np.random.randint(action_count)\n",
    "        else:\n",
    "            action_index = np.argmax(V)\n",
    "\n",
    "        action = actions[action_index]\n",
    "        reward = action.act()\n",
    "\n",
    "        # Update times action taken (N)\n",
    "        N[action_index] += 1\n",
    "        # Update value (V) in an incremental fashion, to better approximate the true mean.\n",
    "        V[action_index] = V[action_index] + (1 / N[action_index]) * (reward - V[action_index])\n",
    "\n",
    "        # Calculate total average reward incrementally and save for plotting\n",
    "        total_average_reward = total_average_reward + (1 / (i+1)) * (reward - total_average_reward)\n",
    "        running_mean_reward[i] = total_average_reward\n",
    "\n",
    "    return V, running_mean_reward"
   ]
  },
  {
   "cell_type": "code",
   "execution_count": 87,
   "metadata": {},
   "outputs": [
    {
     "name": "stdout",
     "output_type": "stream",
     "text": [
      "[0.88482588 1.99407433 2.99425966]\n",
      "[1.02386658 2.01826845 2.99965007]\n",
      "[0.9962669  2.0217531  3.00708159]\n"
     ]
    }
   ],
   "source": [
    "action_values_0_01, running_mean_reward_0_01 = run_experiment(actions, 0.01, steps)\n",
    "print(action_values_0_01)\n",
    "\n",
    "action_values_0_05, running_mean_reward_0_05 = run_experiment(actions, 0.05, steps)\n",
    "print(action_values_0_05)\n",
    "\n",
    "action_values_0_1, running_mean_reward_0_1 = run_experiment(actions, 0.1, steps)\n",
    "print(action_values_0_1)"
   ]
  },
  {
   "cell_type": "markdown",
   "metadata": {},
   "source": [
    "Plotting the average reward over time, we see that this approaches the optimal value of 3 (note you would need to run this multiple times to account for different random seed values). Larger values of epsilon that allow more exploration seem to reach higher values quicker, but the smaller epsilon values give better results one we have start reaching an optimal solution as we are less likely to take one of the other less optimal actions"
   ]
  },
  {
   "cell_type": "code",
   "execution_count": 88,
   "metadata": {},
   "outputs": [
    {
     "data": {
      "image/png": "[encoded data removed]",
      "text/plain": [
       "<Figure size 432x288 with 1 Axes>"
      ]
     },
     "metadata": {},
     "output_type": "display_data"
    }
   ],
   "source": [
    "plt.plot(np.ones(steps) * running_mean_reward_0_01, label=\"ε 0.01\")\n",
    "plt.plot(np.ones(steps) * running_mean_reward_0_05, label=\"ε 0.05\")\n",
    "plt.plot(np.ones(steps) * running_mean_reward_0_1, label=\"ε 0.1\")\n",
    "plt.xscale('log')\n",
    "plt.legend()\n",
    "plt.show()"
   ]
  },
  {
   "cell_type": "markdown",
   "metadata": {},
   "source": [
    "### Decaying epsilon\n",
    "To take advantage of the above difference in epsilon values we might want to start with larger epsilon values and the decay or reduce this over time so we move from an exploration to exploitation based strategy over time as the value of each action starts to better approximate the mean."
   ]
  },
  {
   "cell_type": "code",
   "execution_count": 89,
   "metadata": {},
   "outputs": [
    {
     "name": "stdout",
     "output_type": "stream",
     "text": [
      "[0.99062316 1.98514356 3.00169404]\n",
      "[0.99174714 1.99565967 3.00054415]\n"
     ]
    }
   ],
   "source": [
    "action_values_0_1_99, running_mean_reward_0_1_99 = run_experiment(actions, 0.1, steps, 0.99)\n",
    "print(action_values_0_1_99)\n",
    "\n",
    "action_values_0_1_9, running_mean_reward_0_1_9 = run_experiment(actions, 0.1, steps, 0.9)\n",
    "print(action_values_0_1_9)"
   ]
  },
  {
   "cell_type": "code",
   "execution_count": 90,
   "metadata": {},
   "outputs": [
    {
     "data": {
      "image/png": "[encoded data removed]",
      "text/plain": [
       "<Figure size 432x288 with 1 Axes>"
      ]
     },
     "metadata": {},
     "output_type": "display_data"
    }
   ],
   "source": [
    "plt.plot(np.ones(steps) * running_mean_reward_0_1, label=\"ε 0.1\")\n",
    "plt.plot(np.ones(steps) * running_mean_reward_0_1_99, label=\"ε 0.1, d 0.99\")\n",
    "plt.plot(np.ones(steps) * running_mean_reward_0_1_9, label=\"ε 0.1, d 0.90\")\n",
    "plt.xscale('log')\n",
    "plt.legend()\n",
    "plt.show()"
   ]
  },
  {
   "cell_type": "markdown",
   "metadata": {},
   "source": [
    "# Upper Conﬁdence Bound (UCB)\n",
    "UCB-1 is based on the principle of optimism in the face of uncertainty so the more uncertain we are about an arm, the more important it becomes to explore that arm. It uses the notion of uncertainty to choose epsilon value equal to the upper confidence bound and then just exploit. "
   ]
  },
  {
   "cell_type": "code",
   "execution_count": 91,
   "metadata": {
    "collapsed": true
   },
   "outputs": [],
   "source": [
    "import math\n",
    "\n",
    "def run_experiment_ucb(actions, steps):\n",
    "    \"\"\"\n",
    "    Run an experiment assuming we don't know about the rewards the actions return\n",
    "    \"\"\"\n",
    "    action_count = len(actions)\n",
    "    # N represents the number of time each action has been tried\n",
    "    N = np.zeros(action_count)\n",
    "    # V represents the value of an action\n",
    "    V = np.zeros(action_count)\n",
    "    # accumulated rewards\n",
    "    total_average_reward = 0\n",
    "    running_mean_reward = np.zeros(steps)\n",
    "\n",
    "    for i in range(steps):\n",
    "        # USB1 for explore / exploit\n",
    "        action_index = 0\n",
    "        max_upper_bound = 0\n",
    "        for a in range(0, action_count):\n",
    "            if (N[a] > 0):\n",
    "                delta_i = math.sqrt(2 * math.log(i+1) / N[a])\n",
    "                upper_bound = V[a] + delta_i\n",
    "            else:\n",
    "                upper_bound = 1e400\n",
    "                \n",
    "            if upper_bound > max_upper_bound:\n",
    "                max_upper_bound = upper_bound\n",
    "                action_index = a\n",
    "\n",
    "        action = actions[action_index]\n",
    "        reward = action.act()\n",
    "        \n",
    "        # Update times action taken (N)\n",
    "        N[action_index] += 1\n",
    "        # Update value (V) in an incremental fashion, to better approximate the true mean.\n",
    "        V[action_index] = V[action_index] + (1 / N[action_index]) * (reward - V[action_index])\n",
    "\n",
    "        # Calculate total average reward incrementally and save for plotting\n",
    "        total_average_reward = total_average_reward + (1 / (i+1)) * (reward - total_average_reward)\n",
    "        running_mean_reward[i] = total_average_reward\n",
    "\n",
    "    return V, running_mean_reward"
   ]
  },
  {
   "cell_type": "code",
   "execution_count": 92,
   "metadata": {},
   "outputs": [
    {
     "name": "stdout",
     "output_type": "stream",
     "text": [
      "[1.00010289 1.86366583 3.00497439]\n"
     ]
    }
   ],
   "source": [
    "action_values_ucb, running_mean_reward_ucb = run_experiment_ucb(actions, steps)\n",
    "print(action_values_ucb)"
   ]
  },
  {
   "cell_type": "code",
   "execution_count": 93,
   "metadata": {},
   "outputs": [
    {
     "data": {
      "image/png": "[encoded data removed]",
      "text/plain": [
       "<Figure size 432x288 with 1 Axes>"
      ]
     },
     "metadata": {},
     "output_type": "display_data"
    }
   ],
   "source": [
    "plt.plot(np.ones(steps) * running_mean_reward_ucb, label=\"ucb\")\n",
    "plt.plot(np.ones(steps) * running_mean_reward_0_1_9, label=\"ε 0.1, d 0.90\")\n",
    "plt.xscale('log')\n",
    "plt.legend()\n",
    "plt.show()"
   ]
  },
  {
   "cell_type": "markdown",
   "metadata": {},
   "source": [
    "# Non Stationary"
   ]
  },
  {
   "cell_type": "markdown",
   "metadata": {},
   "source": [
    "References:\n",
    "Xxx"
   ]
  },
  {
   "cell_type": "markdown",
   "metadata": {},
   "source": [
    "# Example - Advertising Click Through Rate (CTR) Optimization\n",
    "Suppose an advertising company is running 10 different ads targeted towards a similar set of population on a webpage. We have results for which ads were clicked by a user here. Each column index represents a different ad. We have a 1 if the ad was clicked by a user, and 0 if it was not.\n",
    "\n",
    "We want to learn which adverts are most likely to be clicked and show those. In this problem Ad #5 (index 4) is the optimal ad"
   ]
  },
  {
   "cell_type": "code",
   "execution_count": 94,
   "metadata": {},
   "outputs": [
    {
     "data": {
      "text/html": [
       "<div>\n",
       "<style scoped>\n",
       "    .dataframe tbody tr th:only-of-type {\n",
       "        vertical-align: middle;\n",
       "    }\n",
       "\n",
       "    .dataframe tbody tr th {\n",
       "        vertical-align: top;\n",
       "    }\n",
       "\n",
       "    .dataframe thead th {\n",
       "        text-align: right;\n",
       "    }\n",
       "</style>\n",
       "<table border=\"1\" class=\"dataframe\">\n",
       "  <thead>\n",
       "    <tr style=\"text-align: right;\">\n",
       "      <th></th>\n",
       "      <th>Ad 1</th>\n",
       "      <th>Ad 2</th>\n",
       "      <th>Ad 3</th>\n",
       "      <th>Ad 4</th>\n",
       "      <th>Ad 5</th>\n",
       "      <th>Ad 6</th>\n",
       "      <th>Ad 7</th>\n",
       "      <th>Ad 8</th>\n",
       "      <th>Ad 9</th>\n",
       "      <th>Ad 10</th>\n",
       "    </tr>\n",
       "  </thead>\n",
       "  <tbody>\n",
       "    <tr>\n",
       "      <th>0</th>\n",
       "      <td>1</td>\n",
       "      <td>0</td>\n",
       "      <td>0</td>\n",
       "      <td>0</td>\n",
       "      <td>1</td>\n",
       "      <td>0</td>\n",
       "      <td>0</td>\n",
       "      <td>0</td>\n",
       "      <td>1</td>\n",
       "      <td>0</td>\n",
       "    </tr>\n",
       "    <tr>\n",
       "      <th>1</th>\n",
       "      <td>0</td>\n",
       "      <td>0</td>\n",
       "      <td>0</td>\n",
       "      <td>0</td>\n",
       "      <td>0</td>\n",
       "      <td>0</td>\n",
       "      <td>0</td>\n",
       "      <td>0</td>\n",
       "      <td>1</td>\n",
       "      <td>0</td>\n",
       "    </tr>\n",
       "    <tr>\n",
       "      <th>2</th>\n",
       "      <td>0</td>\n",
       "      <td>0</td>\n",
       "      <td>0</td>\n",
       "      <td>0</td>\n",
       "      <td>0</td>\n",
       "      <td>0</td>\n",
       "      <td>0</td>\n",
       "      <td>0</td>\n",
       "      <td>0</td>\n",
       "      <td>0</td>\n",
       "    </tr>\n",
       "    <tr>\n",
       "      <th>3</th>\n",
       "      <td>0</td>\n",
       "      <td>1</td>\n",
       "      <td>0</td>\n",
       "      <td>0</td>\n",
       "      <td>0</td>\n",
       "      <td>0</td>\n",
       "      <td>0</td>\n",
       "      <td>1</td>\n",
       "      <td>0</td>\n",
       "      <td>0</td>\n",
       "    </tr>\n",
       "    <tr>\n",
       "      <th>4</th>\n",
       "      <td>0</td>\n",
       "      <td>0</td>\n",
       "      <td>0</td>\n",
       "      <td>0</td>\n",
       "      <td>0</td>\n",
       "      <td>0</td>\n",
       "      <td>0</td>\n",
       "      <td>0</td>\n",
       "      <td>0</td>\n",
       "      <td>0</td>\n",
       "    </tr>\n",
       "  </tbody>\n",
       "</table>\n",
       "</div>"
      ],
      "text/plain": [
       "   Ad 1  Ad 2  Ad 3  Ad 4  Ad 5  Ad 6  Ad 7  Ad 8  Ad 9  Ad 10\n",
       "0     1     0     0     0     1     0     0     0     1      0\n",
       "1     0     0     0     0     0     0     0     0     1      0\n",
       "2     0     0     0     0     0     0     0     0     0      0\n",
       "3     0     1     0     0     0     0     0     1     0      0\n",
       "4     0     0     0     0     0     0     0     0     0      0"
      ]
     },
     "execution_count": 94,
     "metadata": {},
     "output_type": "execute_result"
    }
   ],
   "source": [
    "import pandas as pd\n",
    "\n",
    "# Importing the dataset\n",
    "dataset = pd.read_csv('MultiArmedBandit-Ads-Optimisation.csv')\n",
    "dataset.head()"
   ]
  },
  {
   "cell_type": "markdown",
   "metadata": {},
   "source": [
    "## Random Selection\n",
    "Baseline using random selection - as we aren't learning anything we don't expectit to smartly select any ad which is giving the maximum return. We also see that the optimal ad isn't selected with any higher probability than others."
   ]
  },
  {
   "cell_type": "code",
   "execution_count": 95,
   "metadata": {
    "collapsed": true
   },
   "outputs": [],
   "source": [
    "# Implementing Random Selection\n",
    "import random\n",
    "steps = 10000\n",
    "action_count = 10\n",
    "ads_selected = []\n",
    "total_reward = 0\n",
    "for i in range(0, steps):\n",
    "    ad = random.randrange(action_count)\n",
    "    \n",
    "    ads_selected.append(ad)\n",
    "    reward = dataset.values[i, ad]\n",
    "    total_reward += reward"
   ]
  },
  {
   "cell_type": "code",
   "execution_count": 96,
   "metadata": {},
   "outputs": [
    {
     "name": "stdout",
     "output_type": "stream",
     "text": [
      "Total Reward: 1247\n"
     ]
    },
    {
     "data": {
      "text/plain": [
       "0    0.115\n",
       "7    0.114\n",
       "8    0.112\n",
       "6    0.111\n",
       "4    0.101\n",
       "5    0.100\n",
       "1    0.097\n",
       "2    0.087\n",
       "9    0.084\n",
       "3    0.079\n",
       "dtype: float64"
      ]
     },
     "execution_count": 96,
     "metadata": {},
     "output_type": "execute_result"
    }
   ],
   "source": [
    "print(\"Total Reward:\", total_reward)\n",
    "pd.Series(ads_selected).tail(1000).value_counts(normalize=True)"
   ]
  },
  {
   "cell_type": "markdown",
   "metadata": {},
   "source": [
    "## UCB1 Implementation\n",
    "UCB1 Gives a much higher reward and also currectly selects the optimal ad with a much higher frequency."
   ]
  },
  {
   "cell_type": "code",
   "execution_count": 97,
   "metadata": {
    "collapsed": true
   },
   "outputs": [],
   "source": [
    "# Implementing UCB\n",
    "import math\n",
    "steps = 10000\n",
    "action_count = 10\n",
    "ads_selected = []\n",
    "numbers_of_selections = np.zeros(action_count)\n",
    "sums_of_reward = np.zeros(action_count)\n",
    "total_reward = 0\n",
    "\n",
    "for n in range(0, steps):\n",
    "    ad = 0\n",
    "    max_upper_bound = 0\n",
    "    for i in range(0, action_count):\n",
    "        if (numbers_of_selections[i] > 0):\n",
    "            average_reward = sums_of_reward[i] / numbers_of_selections[i]\n",
    "            delta_i = math.sqrt(2 * math.log(n+1) / numbers_of_selections[i])\n",
    "            upper_bound = average_reward + delta_i\n",
    "        else:\n",
    "            upper_bound = 1e400\n",
    "        if upper_bound > max_upper_bound:\n",
    "            max_upper_bound = upper_bound\n",
    "            ad = i\n",
    "    ads_selected.append(ad)\n",
    "    numbers_of_selections[ad] += 1\n",
    "    reward = dataset.values[n, ad]\n",
    "    sums_of_reward[ad] += reward\n",
    "    total_reward += reward"
   ]
  },
  {
   "cell_type": "code",
   "execution_count": 98,
   "metadata": {},
   "outputs": [
    {
     "name": "stdout",
     "output_type": "stream",
     "text": [
      "Total Reward: 2125\n"
     ]
    },
    {
     "data": {
      "text/plain": [
       "4    0.771\n",
       "0    0.106\n",
       "7    0.034\n",
       "3    0.034\n",
       "2    0.026\n",
       "6    0.007\n",
       "1    0.007\n",
       "8    0.006\n",
       "9    0.005\n",
       "5    0.004\n",
       "dtype: float64"
      ]
     },
     "execution_count": 98,
     "metadata": {},
     "output_type": "execute_result"
    }
   ],
   "source": [
    "print(\"Total Reward:\", total_reward)\n",
    "pd.Series(ads_selected).tail(1000).value_counts(normalize=True)"
   ]
  },
  {
   "cell_type": "code",
   "execution_count": null,
   "metadata": {
    "collapsed": true
   },
   "outputs": [],
   "source": []
  }
 ],
 "metadata": {
  "kernelspec": {
   "display_name": "Anaconda",
   "language": "python",
   "name": "anaconda"
  },
  "language_info": {
   "codemirror_mode": {
    "name": "ipython",
    "version": 3
   },
   "file_extension": ".py",
   "mimetype": "text/x-python",
   "name": "python",
   "nbconvert_exporter": "python",
   "pygments_lexer": "ipython3",
   "version": "3.6.4"
  }
 },
 "nbformat": 4,
 "nbformat_minor": 2
}
