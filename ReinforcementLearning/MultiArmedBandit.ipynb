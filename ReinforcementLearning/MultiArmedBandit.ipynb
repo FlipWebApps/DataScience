{
 "cells": [
  {
   "cell_type": "markdown",
   "metadata": {},
   "source": [
    "# Multi Armed Bandit \n",
    "The term multi armed bandit comes from a certain type of slot machines where at each step there are multiple options a player can take, each of which has an unknown probability of payout. The goal is to learn the optimal machine to play through experimentation so that we maximise the payout.\n",
    "\n",
    "#image\n",
    "    \n",
    "More generically, we have a problem with a fixed set of options / actions that can be taken at each step, where each returns some sort of reward based upon a stationary probability distribution. We need to maximise the total reward over a given number of steps / iterations.\n",
    "\n",
    "### Assumptions\n",
    "* We make the assumption that selection of actions is independent and so taking an action will not have any impact of subsequent actions.\n",
    "* The probability distribution for the reward is stationary and so has a fixed mean and standard deviation.\n",
    "\n",
    "The Multi Armed Bandit problem is considered a basic building block for understanding how more advanced RL algorithms work, in particular when extending the concept to consider state and dependencies.\n",
    "\n",
    "## The Simplest Case - a Constant Reward\n",
    "The simplest case of the multi armed bandit problem would be if each bandit gave a single constant reward. Although not very interesting we present a solution as an introduction to further cases. \n",
    "\n",
    "As the reward is fixed we need to only try each bandit exactly once to determine what reward each returns. We can then always take that same action.\n",
    "\n",
    "Note: in the below we see the action internals including rewards and the implementation. In a real world scenario such details would be hidden and we might have no prior knowledge about the reward structure"
   ]
  },
  {
   "cell_type": "code",
   "execution_count": 4,
   "metadata": {},
   "outputs": [
    {
     "name": "stdout",
     "output_type": "stream",
     "text": [
      "Max reward index is 0 (zero based)\n",
      "Max reward index is 2 (zero based)\n"
     ]
    }
   ],
   "source": [
    "import numpy as np\n",
    "\n",
    "class ActionStatic:\n",
    "    \"\"\"\n",
    "    Class representing an action that can be taken.\n",
    "    Acting with this action will give a static reward\n",
    "    \"\"\"\n",
    "\n",
    "    def __init__(self, reward):\n",
    "        self.reward = reward\n",
    "\n",
    "    def act(self):\n",
    "        return self.reward\n",
    "\n",
    "\n",
    "def create_actions(rewards):\n",
    "    \"\"\"\n",
    "    Creates actions based upon the passed configuration.\n",
    "    \"\"\"\n",
    "    actions = [ActionStatic(reward) for reward in rewards]\n",
    "    return actions\n",
    "\n",
    "\n",
    "def run_experiment(actions):\n",
    "    \"\"\"\n",
    "    Run an experiment assuming we don't know about the rewards the actions return\n",
    "    \"\"\"\n",
    "    rewards = [action.act() for action in actions]\n",
    "    max_reward_index = np.argmax(rewards)\n",
    "    return max_reward_index\n",
    "\n",
    "\n",
    "# Initialise the bandits\n",
    "max_reward_index = run_experiment(create_actions([10, 2, 0.5]))\n",
    "print(\"Max reward index is {} (zero based)\".format(max_reward_index))\n",
    "max_reward_index = run_experiment(create_actions([1, 2, 3.5]))\n",
    "print(\"Max reward index is {} (zero based)\".format(max_reward_index))\n"
   ]
  },
  {
   "cell_type": "markdown",
   "metadata": {},
   "source": [
    "## Finding an Actions Value\n",
    "In most cases we won't be getting a fixed value. Instead there will likely be some noise (intended or random) meaning we will receive rewards from some sort of gaussian distribution. This presents a new problem as we can't just sample each action once and then always use the highest scoring action as we may have gotten a value that is lower / higher than the actions mean reward and so be running with a sub optimal strategy. The *law of large numbers* states that the average result from repeating an experiment multiple times will better approximate the true or expected underlying result so we will need to repeatedly trigger the actions multiple times to try and identify the true mean of the rewards known as the actions *value* (v).\n",
    "\n",
    "As we are looking for an optimal strategy, we also need to consider how we balancing *exploration* (looking for new better values) v's *exploitation* (just going with the current best solution). We will use the *epsilon-greedy* approach that uses a simple probability measure to determine which option to take.\n",
    "\n",
    "Note: in the below we see the action internals including rewards and the implementation. In a real world scenario such details would be hidden and we might have no prior knowledge about the reward structure"
   ]
  },
  {
   "cell_type": "code",
   "execution_count": 5,
   "metadata": {},
   "outputs": [],
   "source": [
    "import numpy as np\n",
    "import matplotlib.pyplot as plt\n",
    "\n",
    "class ActionNormal:\n",
    "    \"\"\"\n",
    "    Class representing an action that can be taken.\n",
    "    Acting with this action will give a reward pulled from a normal distribution around a specific mean.\n",
    "    \"\"\"\n",
    "\n",
    "    def __init__(self, reward_mean, reward_dist_multiplier = 1):\n",
    "        self.reward_mean = reward_mean\n",
    "        self.reward_dist_multiplier = reward_dist_multiplier\n",
    "\n",
    "    def act(self):\n",
    "        return (self.reward_dist_multiplier * np.random.randn()) + self.reward_mean\n",
    "\n",
    "\n",
    "def create_actions(reward_stats):\n",
    "    \"\"\"\n",
    "    Creates actions based upon the passed configuration.\n",
    "    \"\"\"\n",
    "    actions = [ActionNormal(reward_mean, reward_dist_multiplier) for reward_mean, reward_dist_multiplier in reward_stats]\n",
    "    return actions\n",
    "\n",
    "\n",
    "def run_experiment(actions, epsilon, steps):\n",
    "    \"\"\"\n",
    "    Run an experiment assuming we don't know about the rewards the actions return\n",
    "    \"\"\"\n",
    "    action_count = len(actions)\n",
    "    # N represents the number of time each action has been tried\n",
    "    N = np.zeros(action_count)\n",
    "    # V represents the value of an action\n",
    "    V = np.zeros(action_count)\n",
    "    # accumulated rewards\n",
    "    total_average_reward = 0\n",
    "    accumulated_average_reward = np.zeros(steps)\n",
    "\n",
    "    for i in range(steps):\n",
    "        # epsilon greedy for explore / exploit\n",
    "        r = np.random.random()\n",
    "        if r < epsilon:\n",
    "            action_index = np.random.randint(action_count)\n",
    "        else:\n",
    "            action_index = np.argmax(V)\n",
    "\n",
    "        reward = actions[action_index].act()\n",
    "\n",
    "        # Update times action taken (N) and value (V) to better approximate the mean.\n",
    "        N[action_index] += 1\n",
    "        V[action_index] = V[action_index] + (1 / N[action_index]) * (reward - V[action_index])\n",
    "\n",
    "        # Calculate total average reward incrementally and save for plotting\n",
    "        total_average_reward = total_average_reward + (1 / (i+1)) * (reward - total_average_reward)\n",
    "        accumulated_average_reward[i] = total_average_reward\n",
    "\n",
    "    return V, accumulated_average_reward"
   ]
  },
  {
   "cell_type": "markdown",
   "metadata": {},
   "source": [
    "We try running the above experiment for different epsilon values to see how differente exploration / exploitation values affect the cumulative reward. We expect the returned value functions for the different actions to approximate the mean value that the actions are created with."
   ]
  },
  {
   "cell_type": "code",
   "execution_count": 7,
   "metadata": {},
   "outputs": [
    {
     "name": "stdout",
     "output_type": "stream",
     "text": [
      "[0.94845863 1.95848974 2.99641049]\n",
      "[1.00168949 2.03598302 2.99931207]\n",
      "[0.98670877 2.04366422 2.99616273]\n"
     ]
    }
   ],
   "source": [
    "steps = 100000\n",
    "action_values_0_01, running_mean_reward_0_01 = run_experiment(create_actions([(1, 1), (2, 1), (3, 1)]), 0.01, steps)\n",
    "print(action_values_0_01)\n",
    "action_values_0_05, running_mean_reward_0_05 = run_experiment(create_actions([(1, 1), (2, 1), (3, 1)]), 0.05, steps)\n",
    "print(action_values_0_05)\n",
    "action_values_0_1, running_mean_reward_0_1 = run_experiment(create_actions([(1, 1), (2, 1), (3, 1)]), 0.1, steps)\n",
    "print(action_values_0_1)"
   ]
  },
  {
   "cell_type": "markdown",
   "metadata": {},
   "source": [
    "Plotting the average reward over time, we see that this approaches the optimal value of 3 (note you would need to run this multiple times to account for different random seed values). Larger values of epsilon that allow more exploration seem to reach higher values quicker, but the smaller epsilon values give better results one we have start reaching an optimal solution as we are less likely to take one of the other less optimal actions"
   ]
  },
  {
   "cell_type": "code",
   "execution_count": 3,
   "metadata": {},
   "outputs": [
    {
     "data": {
      "image/png": "[encoded data removed]",
      "text/plain": [
       "<Figure size 432x288 with 1 Axes>"
      ]
     },
     "metadata": {},
     "output_type": "display_data"
    }
   ],
   "source": [
    "plt.plot(np.ones(steps) * running_mean_reward_0_01, label=\"ε 0.01\")\n",
    "plt.plot(np.ones(steps) * running_mean_reward_0_05, label=\"ε 0.05\")\n",
    "plt.plot(np.ones(steps) * running_mean_reward_0_1, label=\"ε 0.1\")\n",
    "plt.xscale('log')\n",
    "plt.legend()\n",
    "plt.show()"
   ]
  },
  {
   "cell_type": "markdown",
   "metadata": {},
   "source": [
    "### Decaying epsilon\n",
    "To take advantage of the above difference in epsilon values we might want to start with larger epsilon values and the decay or reduce this over time so we move from an exploration to exploitation based strategy over time as the value of each action starts to better approximate the mean."
   ]
  },
  {
   "cell_type": "code",
   "execution_count": null,
   "metadata": {},
   "outputs": [],
   "source": []
  },
  {
   "cell_type": "markdown",
   "metadata": {},
   "source": [
    "Optimistic initial values\n",
    "\n",
    "Upper Conﬁdence Bound (UCB)\n",
    "\n",
    "Non Stationary"
   ]
  },
  {
   "cell_type": "markdown",
   "metadata": {},
   "source": [
    "References:\n",
    "Xxx"
   ]
  },
  {
   "cell_type": "code",
   "execution_count": null,
   "metadata": {},
   "outputs": [],
   "source": []
  }
 ],
 "metadata": {
  "kernelspec": {
   "display_name": "Anaconda",
   "language": "python",
   "name": "anaconda"
  },
  "language_info": {
   "codemirror_mode": {
    "name": "ipython",
    "version": 3
   },
   "file_extension": ".py",
   "mimetype": "text/x-python",
   "name": "python",
   "nbconvert_exporter": "python",
   "pygments_lexer": "ipython3",
   "version": "3.6.4"
  }
 },
 "nbformat": 4,
 "nbformat_minor": 2
}
