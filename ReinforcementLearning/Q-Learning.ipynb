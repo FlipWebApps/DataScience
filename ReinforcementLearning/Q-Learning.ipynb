{
 "cells": [
  {
   "cell_type": "markdown",
   "metadata": {},
   "source": [
    "## Q-Learning Example\n",
    "\n",
    "Reusable Q-Learning class with Cliff walking example\n",
    "\n",
    "References:\n",
    "* https://oneraynyday.github.io/ml/2018/09/30/Reinforcement-Learning-TD/\n",
    "* https://github.com/OneRaynyDay/RLEngine"
   ]
  },
  {
   "cell_type": "code",
   "execution_count": 5,
   "metadata": {},
   "outputs": [],
   "source": [
    "\"\"\"\n",
    "General purpose finite model baseclass that requires some functions to be implemented.\n",
    "\"\"\"\n",
    "import numpy as np\n",
    "from abc import ABCMeta, abstractmethod\n",
    "from copy import deepcopy\n",
    "\n",
    "class FiniteModel(object, metaclass=ABCMeta):\n",
    "    def __init__(self, state_space, action_space, gamma=1.0, epsilon=0.1):\n",
    "        \"\"\"FiniteModel takes in state_space and action_space (finite) \n",
    "        Arguments\n",
    "        ---------\n",
    "        \n",
    "        state_space: int OR list[observation], where observation is any hashable type from env's obs.\n",
    "        action_space: int OR list[action], where action is any hashable type from env's actions.\n",
    "        gamma: float, discounting factor.\n",
    "        epsilon: float, epsilon-greedy parameter.\n",
    "        \n",
    "        If the parameter is an int, then we generate a list, and otherwise we generate a dictionary.\n",
    "        \"\"\"\n",
    "        self.gamma = gamma\n",
    "        self.epsilon = epsilon\n",
    "        self.Q = None\n",
    "        if isinstance(action_space, int):\n",
    "            self.action_space = np.arange(action_space)\n",
    "            actions = [0]*action_space\n",
    "            # Action representation\n",
    "            self._act_rep = \"list\"\n",
    "        else:\n",
    "            self.action_space = action_space\n",
    "            actions = {k:0 for k in action_space}\n",
    "            self._act_rep = \"dict\"\n",
    "        if isinstance(state_space, int):\n",
    "            self.state_space = np.arange(state_space)\n",
    "            self.Q = [deepcopy(actions) for _ in range(state_space)]\n",
    "        else:\n",
    "            self.state_space = state_space\n",
    "            self.Q = {k:deepcopy(actions) for k in state_space}\n",
    "            \n",
    "        # Frequency of state/action.\n",
    "        self.Ql = deepcopy(self.Q)\n",
    "\n",
    "       \n",
    "    def pi(self, action, state):\n",
    "        \"\"\"pi(a,s,A,V) := pi(a|s)\n",
    "        We take the argmax_a of Q(s,a).\n",
    "        q[s] = [q(s,0), q(s,1), ...]\n",
    "        \"\"\"\n",
    "        if self._act_rep == \"list\":\n",
    "            if action == np.argmax(self.Q[state]):\n",
    "                return 1\n",
    "            return 0\n",
    "        elif self._act_rep == \"dict\":\n",
    "            if action == max(self.Q[state], key=self.Q[state].get):\n",
    "                return 1\n",
    "            return 0\n",
    "    \n",
    "   \n",
    "    def b(self, action, state):\n",
    "        \"\"\"b(a,s,A) := b(a|s) \n",
    "        Sometimes you can only use a subset of the action space\n",
    "        given the state.\n",
    "        Randomly selects an action from a uniform distribution.\n",
    "        \"\"\"\n",
    "        return self.epsilon/len(self.action_space) + (1-self.epsilon) * self.pi(action, state)\n",
    "\n",
    "\n",
    "    def choose_action(self, policy, state):\n",
    "        \"\"\"Uses specified policy to select an action randomly given the state.\n",
    "        Arguments\n",
    "        ---------\n",
    "        \n",
    "        policy: function, can be self.pi, or self.b, or another custom policy.\n",
    "        state: observation of the environment.\n",
    "        \"\"\"\n",
    "        probs = [policy(a, state) for a in self.action_space]\n",
    "        return np.random.choice(self.action_space, p=probs)\n",
    "\n",
    "   \n",
    "    @abstractmethod\n",
    "    def score(self, env, policy, n_samples=1000):\n",
    "        pass\n",
    "\n",
    "\n",
    "    @abstractmethod\n",
    "    def update_Q(self, sequence):\n",
    "        pass"
   ]
  },
  {
   "cell_type": "code",
   "execution_count": 6,
   "metadata": {},
   "outputs": [],
   "source": [
    "\"\"\"\n",
    "General purpose Q-Learning model for training off-policy methods.\n",
    "\"\"\"\n",
    "class FiniteQLearningModel(FiniteModel):\n",
    "    def __init__(self, state_space, action_space, gamma=1.0, epsilon=0.1, alpha=0.01):\n",
    "        \"\"\"FiniteQLearningModel takes in state_space and action_space (finite) \n",
    "        Arguments\n",
    "        ---------\n",
    "        \n",
    "        state_space: int OR list[observation], where observation is any hashable type from env's obs.\n",
    "        action_space: int OR list[action], where action is any hashable type from env's actions.\n",
    "        gamma: float, discounting factor.\n",
    "        epsilon: float, epsilon-greedy parameter.\n",
    "        \n",
    "        If the parameter is an int, then we generate a list, and otherwise we generate a dictionary.\n",
    "        >>> m = FiniteQLearningModel(2,3,epsilon=0)\n",
    "        >>> m.Q\n",
    "        [[0, 0, 0], [0, 0, 0]]\n",
    "        >>> m.Q[0][1] = 1\n",
    "        >>> m.Q\n",
    "        [[0, 1, 0], [0, 0, 0]]\n",
    "        >>> m.pi(1, 0)\n",
    "        1\n",
    "        >>> m.pi(1, 1)\n",
    "        0\n",
    "        \"\"\"\n",
    "        super(FiniteQLearningModel, self).__init__(state_space, action_space, gamma, epsilon) \n",
    "        self.alpha = alpha\n",
    "       \n",
    "\n",
    "    def update_Q(self, sars):\n",
    "        \"\"\"Performs a TD(0) action-value update using a single step.\n",
    "        Arguments\n",
    "        ---------\n",
    "        \n",
    "        sars: (state, action, reward, state, action) or (state, action, reward, state), \n",
    "            an event in an episode.\n",
    "        \n",
    "        NOTE: For Q-Learning, we don't actually use the next action, since we argmax.\n",
    "        \"\"\"\n",
    "        # Generate returns, return ratio\n",
    "        if len(sars) > 4:\n",
    "            sars = sars[:4]\n",
    "\n",
    "        p_state, p_action, reward, n_state = sars\n",
    "        q = self.Q[p_state][p_action]\n",
    "        max_q = max(self.Q[n_state].values()) if isinstance(self.Q[n_state], dict) else max(self.Q[n_state])\n",
    "        self.Q[p_state][p_action] = q + self.alpha * \\\n",
    "            (reward + self.gamma * max_q - q)\n",
    "   \n",
    "\n",
    "    def score(self, env, policy, n_samples=1000):\n",
    "        \"\"\"Evaluates a specific policy with regards to the env.\n",
    "        Arguments\n",
    "        ---------\n",
    "        \n",
    "        env: an openai gym env, or anything that follows the api.\n",
    "        policy: a function, could be self.pi, self.b, etc.\n",
    "        \"\"\"\n",
    "        rewards = []\n",
    "        for _ in range(n_samples):\n",
    "            observation = env.reset()\n",
    "            cum_rewards = 0\n",
    "            while True:\n",
    "                action = self.choose_action(policy, observation)\n",
    "                observation, reward, done, _ = env.step(action)\n",
    "                cum_rewards += reward\n",
    "                if done:\n",
    "                    rewards.append(cum_rewards)\n",
    "                    break\n",
    "        return np.mean(rewards)"
   ]
  },
  {
   "cell_type": "markdown",
   "metadata": {},
   "source": [
    "## Example: Cliff Walking\n",
    "The change to the code is actually very small because, as I said, Monte Carlo sampling is pretty environment agnostic.\n",
    "\n",
    "The cliff walking problem is a map where some blocks are cliffs and others are platforms. You get -1 reward for every step on a platform, and -100 reward for every time you fall down the cliff. When you land on a cliff, you go back to the beginning. For how big the map is, -17.0 per episode is a near-optimal policy."
   ]
  },
  {
   "cell_type": "code",
   "execution_count": 7,
   "metadata": {},
   "outputs": [],
   "source": [
    "import gym\n",
    "env = gym.make(\"CliffWalking-v0\")"
   ]
  },
  {
   "cell_type": "code",
   "execution_count": 8,
   "metadata": {},
   "outputs": [
    {
     "name": "stdout",
     "output_type": "stream",
     "text": [
      "o  o  o  o  o  o  o  o  o  o  o  o\n",
      "o  o  o  o  o  o  o  o  o  o  o  o\n",
      "o  o  o  o  o  o  o  o  o  o  o  o\n",
      "x  C  C  C  C  C  C  C  C  C  C  T\n",
      "\n"
     ]
    }
   ],
   "source": [
    "env.render(mode='rgb_array')"
   ]
  },
  {
   "cell_type": "code",
   "execution_count": 9,
   "metadata": {},
   "outputs": [],
   "source": [
    "# WARNING: If you try to set eps to a very low value,\n",
    "# And you attempt to get the m.score() of m.pi, there may not\n",
    "# be guarranteed convergence.\n",
    "eps = 3000\n",
    "S = 4*12\n",
    "A = 4\n",
    "START_EPS = 0.7\n",
    "m = FiniteQLearningModel(S, A, epsilon=START_EPS)\n",
    "\n",
    "SAVE_FIG = False\n",
    "history = []\n",
    "\n",
    "for i in range(1, eps+1):\n",
    "    ep = []\n",
    "    prev_observation = env.reset()\n",
    "    prev_action = m.choose_action(m.b, prev_observation)\n",
    "\n",
    "    total_reward = 0\n",
    "    while True:        \n",
    "        # Run simulation\n",
    "        next_observation, reward, done, _ = env.step(prev_action)\n",
    "        next_action = m.choose_action(m.b, next_observation)\n",
    "\n",
    "        m.update_Q((prev_observation, prev_action, reward, next_observation, next_action))\n",
    "\n",
    "        prev_observation = next_observation\n",
    "        prev_action = next_action\n",
    "\n",
    "        total_reward += reward\n",
    "        if done:\n",
    "            break\n",
    "\n",
    "    history.append(total_reward)\n"
   ]
  },
  {
   "cell_type": "code",
   "execution_count": 10,
   "metadata": {},
   "outputs": [
    {
     "name": "stdout",
     "output_type": "stream",
     "text": [
      "Final expected returns : -13.0\n"
     ]
    },
    {
     "data": {
      "image/png": "[encoded data removed]",
      "text/plain": [
       "<Figure size 432x288 with 1 Axes>"
      ]
     },
     "metadata": {
      "needs_background": "light"
     },
     "output_type": "display_data"
    }
   ],
   "source": [
    "print(\"Final expected returns : {}\".format(m.score(env, m.pi, n_samples=10)))\n",
    "                              \n",
    "import numpy as np\n",
    "import matplotlib.pyplot as plt\n",
    "%matplotlib inline  \n",
    "\n",
    "X = 12\n",
    "Y = 4\n",
    "Fx = np.zeros((Y, X))\n",
    "Fy = np.zeros((Y, X))\n",
    "for y in range(Y):\n",
    "    for x in range(X):\n",
    "        amax = np.argmax(m.Q[x+y*12])\n",
    "        if amax == 0: # UP\n",
    "            Fy[y, x] = -1\n",
    "        elif amax == 1: # RIGHT\n",
    "            Fx[y, x] = 1\n",
    "        elif amax == 2: # DOWN\n",
    "            Fy[y, x] = 1\n",
    "        elif amax == 3: # LEFT\n",
    "            Fx[y, x] = -1\n",
    "plt.quiver(Fx,Fy)\n",
    "plt.show()"
   ]
  },
  {
   "cell_type": "markdown",
   "metadata": {},
   "source": [
    "Another observation we can see is that Q-learning’s average reward is bad. This is due to the fact that Q-learning tries to take the optimal action, but gets screwed over by the ϵ probability of falling off a cliff due to the stochasticity of the ϵ-greedy policy that it uses to explore."
   ]
  },
  {
   "cell_type": "code",
   "execution_count": null,
   "metadata": {},
   "outputs": [],
   "source": []
  }
 ],
 "metadata": {
  "kernelspec": {
   "display_name": "Python 3",
   "language": "python",
   "name": "python3"
  },
  "language_info": {
   "codemirror_mode": {
    "name": "ipython",
    "version": 3
   },
   "file_extension": ".py",
   "mimetype": "text/x-python",
   "name": "python",
   "nbconvert_exporter": "python",
   "pygments_lexer": "ipython3",
   "version": "3.6.6"
  }
 },
 "nbformat": 4,
 "nbformat_minor": 2
}
