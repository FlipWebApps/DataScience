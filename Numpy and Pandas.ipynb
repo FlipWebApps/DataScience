{
 "cells": [
  {
   "cell_type": "code",
   "execution_count": 4,
   "metadata": {
    "collapsed": true
   },
   "outputs": [],
   "source": [
    "import pandas as pd\n",
    "import numpy as np"
   ]
  },
  {
   "cell_type": "markdown",
   "metadata": {},
   "source": [
    "# Basic Numpy Setup\n",
    "Some of the different ways of creating numpy arrays of different dimensions"
   ]
  },
  {
   "cell_type": "code",
   "execution_count": 123,
   "metadata": {
    "collapsed": false
   },
   "outputs": [
    {
     "name": "stdout",
     "output_type": "stream",
     "text": [
      "1d numpy array\n",
      "\n",
      "[ 5 10 15 20 25 30]\n",
      "Dimensions: 1\n",
      "Shape: (6,)\n",
      "<class 'numpy.ndarray'>\n",
      "\n",
      "2d numpy array with single elements in the first dimension\n",
      "\n",
      "[[ 5 10 15 20 25 30]]\n",
      "Dimensions: 2\n",
      "Shape: (1, 6)\n",
      "<class 'numpy.ndarray'>\n",
      "\n",
      "2d numpy array with single elements in the second dimension\n",
      "\n",
      "[[ 5]\n",
      " [10]\n",
      " [15]\n",
      " [20]\n",
      " [25]\n",
      " [30]]\n",
      "Dimensions: 2\n",
      "Shape: (6, 1)\n",
      "<class 'numpy.ndarray'>\n",
      "\n",
      "2d numpy array with different number of multiple elements in the second dimension\n",
      "\n",
      "[[5, 6] [10, 11] [15, 16] [20] [25] [30]]\n",
      "Dimensions: 1\n",
      "Shape: (6,)\n",
      "<class 'numpy.ndarray'>\n",
      "\n",
      "2d numpy array with multiple elements in the second dimension\n",
      "\n",
      "[[ 5  6]\n",
      " [10 11]\n",
      " [15 16]\n",
      " [20 21]\n",
      " [25 26]\n",
      " [30 31]]\n",
      "Dimensions: 2\n",
      "Shape: (6, 2)\n",
      "<class 'numpy.ndarray'>\n",
      "\n"
     ]
    }
   ],
   "source": [
    "print(\"1d numpy array\\n\")\n",
    "np_array1d = np.array([5,10,15,20,25,30])\n",
    "print(np_array1d)\n",
    "print(\"Dimensions:\", np_array1d.ndim)\n",
    "print(\"Shape:\", np_array1d.shape)\n",
    "print(type(np_array1d))\n",
    "print()\n",
    "\n",
    "print(\"2d numpy array with single elements in the first dimension\\n\")\n",
    "np_array2d16 = np.array([[5,10,15,20,25,30]])\n",
    "print(np_array2d16)\n",
    "print(\"Dimensions:\", np_array2d16.ndim)\n",
    "print(\"Shape:\", np_array2d16.shape)\n",
    "print(type(np_array2d16))\n",
    "print()\n",
    "\n",
    "print(\"2d numpy array with single elements in the second dimension\\n\")\n",
    "np_array2d61 = np.array([[5],[10],[15],[20],[25],[30]])\n",
    "print(np_array2d61)\n",
    "print(\"Dimensions:\", np_array2d61.ndim)\n",
    "print(\"Shape:\", np_array2d61.shape)\n",
    "print(type(np_array2d61))\n",
    "print()\n",
    "\n",
    "print(\"2d numpy array with different number of multiple elements in the second dimension\\n\")\n",
    "np_array2different = np.array([[5,6],[10,11],[15,16],[20],[25],[30]])\n",
    "print(np_array2different)\n",
    "print(\"Dimensions:\", np_array2different.ndim)\n",
    "print(\"Shape:\", np_array2different.shape)\n",
    "print(type(np_array2different))\n",
    "print()\n",
    "\n",
    "print(\"2d numpy array with multiple elements in the second dimension\\n\")\n",
    "np_array2d62 = np.array([[5,6],[10,11],[15,16],[20,21],[25,26],[30,31]])\n",
    "print(np_array2d62)\n",
    "print(\"Dimensions:\", np_array2d62.ndim)\n",
    "print(\"Shape:\", np_array2d62.shape)\n",
    "print(type(np_array2d62))\n",
    "print()\n",
    "   "
   ]
  },
  {
   "cell_type": "markdown",
   "metadata": {},
   "source": [
    "# Basic Pandas Setup"
   ]
  },
  {
   "cell_type": "markdown",
   "metadata": {},
   "source": [
    "## Data Frames\n",
    "Some of the different ways of manually creating pandas DataFrames"
   ]
  },
  {
   "cell_type": "code",
   "execution_count": 124,
   "metadata": {
    "collapsed": false
   },
   "outputs": [
    {
     "name": "stdout",
     "output_type": "stream",
     "text": [
      "   Column1  Column2\n",
      "0        1        5\n",
      "1        1       10\n",
      "2        1       15\n",
      "3        1       20\n",
      "4        1       25\n",
      "\n",
      "   0   1\n",
      "0  1   5\n",
      "1  1  10\n",
      "2  1  15\n",
      "3  1  20\n",
      "4  1  25\n",
      "\n",
      "   Column1  Column2\n",
      "0        1        5\n",
      "1        1       10\n",
      "2        1       15\n",
      "3        1       20\n",
      "4        1       25\n",
      "\n",
      "   0   1   2   3   4   5\n",
      "0  5  10  15  20  25  30\n",
      "\n",
      "    0\n",
      "0   5\n",
      "1  10\n",
      "2  15\n",
      "3  20\n",
      "4  25\n",
      "\n",
      "          0\n",
      "0    [5, 6]\n",
      "1  [10, 11]\n",
      "2  [15, 16]\n",
      "3      [20]\n",
      "4      [25]\n",
      "\n",
      "    0   1\n",
      "0   5   6\n",
      "1  10  11\n",
      "2  15  16\n",
      "3  20  21\n",
      "4  25  26\n",
      "\n"
     ]
    }
   ],
   "source": [
    "# from dictionary\n",
    "test_df = pd.DataFrame({'Column1' : 1,\n",
    "                        'Column2' : [5,10,15,20,25,30]})\n",
    "print(test_df.head())\n",
    "print()\n",
    "\n",
    "#same as above but using a list of lists rather than dictionary.\n",
    "test_df = pd.DataFrame([[1,5], [1,10], [1,15], [1,20], [1,25], [1,30]])\n",
    "print(test_df.head())\n",
    "print()\n",
    "\n",
    "# from 1d npArray\n",
    "test_df = pd.DataFrame({'Column1' : 1,\n",
    "                        'Column2' : np_array1d})\n",
    "print(test_df.head())\n",
    "print()\n",
    "\n",
    "# from 2d numpy array with single element in the first dimension\n",
    "test_df = pd.DataFrame(np_array2d16)\n",
    "print(test_df.head())\n",
    "print()\n",
    "\n",
    "# from 2d numpy array with single elements in the second dimension\n",
    "test_df = pd.DataFrame(np_array2d61)\n",
    "print(test_df.head())\n",
    "print()\n",
    "\n",
    "# from 2d numpy array with different number of multiple elements in the second dimension\n",
    "test_df = pd.DataFrame(np_array2different)\n",
    "print(test_df.head())\n",
    "print()\n",
    "\n",
    "# from 2d npArray - 2 dimensions\n",
    "test_df = pd.DataFrame(np_array2d62)\n",
    "print(test_df.head())\n",
    "print()"
   ]
  },
  {
   "cell_type": "markdown",
   "metadata": {},
   "source": [
    "## Series\n",
    "Some of the different ways of creating a pandas Series\n",
    "* When creating from an nparray, the source must only have 1 dimension otherwise this will give an error."
   ]
  },
  {
   "cell_type": "code",
   "execution_count": 112,
   "metadata": {
    "collapsed": false
   },
   "outputs": [
    {
     "name": "stdout",
     "output_type": "stream",
     "text": [
      "0     5\n",
      "1    10\n",
      "2    15\n",
      "3    20\n",
      "4    25\n",
      "dtype: int64\n",
      "\n",
      "0     5\n",
      "1    10\n",
      "2    15\n",
      "3    20\n",
      "4    25\n",
      "dtype: int32\n",
      "(6,)\n"
     ]
    }
   ],
   "source": [
    "test_series = pd.Series([5,10,15,20,25,30])\n",
    "print(test_series.head())\n",
    "print()\n",
    "\n",
    "test_series = pd.Series(np_array1d)\n",
    "print(test_series.head())\n",
    "print(test_series.shape)"
   ]
  },
  {
   "cell_type": "markdown",
   "metadata": {},
   "source": [
    "# Conversion Pandas -> Numpy"
   ]
  },
  {
   "cell_type": "markdown",
   "metadata": {},
   "source": [
    "DataFrame column selection - select by list gives dataframe, select by single value gives series"
   ]
  },
  {
   "cell_type": "code",
   "execution_count": 113,
   "metadata": {
    "collapsed": false
   },
   "outputs": [
    {
     "name": "stdout",
     "output_type": "stream",
     "text": [
      "Select single column by single value (df[])\n",
      "0     5\n",
      "1    10\n",
      "2    15\n",
      "3    20\n",
      "4    25\n",
      "5    30\n",
      "Name: 1, dtype: int64\n",
      "<class 'pandas.core.series.Series'>\n",
      "\n",
      "Select single (or multiple) columns by list (df[[]])\n",
      "    1\n",
      "0   5\n",
      "1  10\n",
      "2  15\n",
      "3  20\n",
      "4  25\n",
      "5  30\n",
      "<class 'pandas.core.frame.DataFrame'>\n"
     ]
    }
   ],
   "source": [
    "print(\"Select single column by single value (df[])\")\n",
    "newdf = test_df[1]\n",
    "print(newdf)\n",
    "print(type(newdf))\n",
    "\n",
    "print()\n",
    "print(\"Select single (or multiple) columns by list (df[[]])\")\n",
    "newdf = test_df[[1]]\n",
    "print(newdf)\n",
    "print(type(newdf))\n"
   ]
  },
  {
   "cell_type": "markdown",
   "metadata": {},
   "source": [
    "Dataframe to numpy conversions"
   ]
  },
  {
   "cell_type": "code",
   "execution_count": 127,
   "metadata": {
    "collapsed": false
   },
   "outputs": [
    {
     "name": "stdout",
     "output_type": "stream",
     "text": [
      "Input Dataframe (2 columns):\n",
      "    0   1\n",
      "0   5   6\n",
      "1  10  11\n",
      "2  15  16\n",
      "3  20  21\n",
      "4  25  26\n",
      "5  30  31\n",
      "DataFrame.values:\n",
      "<class 'numpy.ndarray'> (6, 2)\n",
      "[[ 5  6]\n",
      " [10 11]\n",
      " [15 16]\n",
      " [20 21]\n",
      " [25 26]\n",
      " [30 31]]\n",
      "\n",
      "Input Dataframe (1 column):\n",
      "    1\n",
      "0   6\n",
      "1  11\n",
      "2  16\n",
      "3  21\n",
      "4  26\n",
      "5  31\n",
      "DataFrame.values:\n",
      "<class 'numpy.ndarray'> (6, 1)\n",
      "[[ 6]\n",
      " [11]\n",
      " [16]\n",
      " [21]\n",
      " [26]\n",
      " [31]]\n",
      "\n"
     ]
    }
   ],
   "source": [
    "print(\"Input Dataframe (2 columns):\")\n",
    "print(test_df.head(10))\n",
    "print(\"DataFrame.values:\")\n",
    "print(type(test_df.values), test_df.values.shape)\n",
    "print(test_df.values)\n",
    "print()\n",
    "\n",
    "print(\"Input Dataframe (1 column):\")\n",
    "print(test_df[[1]].head(10))\n",
    "print(\"DataFrame.values:\")\n",
    "print(type(test_df[[1]].values), test_df[[1]].values.shape)\n",
    "print(test_df[[1]].values)\n",
    "print()"
   ]
  },
  {
   "cell_type": "markdown",
   "metadata": {},
   "source": [
    "Series to numpy conversions. Note this is not the same as a conversion from a dataframe with 1 column"
   ]
  },
  {
   "cell_type": "code",
   "execution_count": 126,
   "metadata": {
    "collapsed": false
   },
   "outputs": [
    {
     "name": "stdout",
     "output_type": "stream",
     "text": [
      "Input Series:\n",
      "0     5\n",
      "1    10\n",
      "2    15\n",
      "3    20\n",
      "4    25\n",
      "5    30\n",
      "dtype: int32\n",
      "Series.values:\n",
      "<class 'numpy.ndarray'> (6,)\n",
      "[ 5 10 15 20 25 30]\n",
      "\n"
     ]
    }
   ],
   "source": [
    "print(\"Input Series:\")\n",
    "print(test_series.head(10))\n",
    "print(\"Series.values:\")\n",
    "print(type(test_series.values), test_series.values.shape)\n",
    "print(test_series.values)\n",
    "print()"
   ]
  },
  {
   "cell_type": "markdown",
   "metadata": {},
   "source": [
    "# Operations"
   ]
  },
  {
   "cell_type": "markdown",
   "metadata": {},
   "source": [
    "Addition"
   ]
  },
  {
   "cell_type": "code",
   "execution_count": 121,
   "metadata": {
    "collapsed": false
   },
   "outputs": [
    {
     "name": "stdout",
     "output_type": "stream",
     "text": [
      "Adding series.values (1d np array) and 1d numpy array:\n",
      "[10 20 30 40 50 60]\n",
      "\n",
      "Adding series.values (1d np array) with 2d (1,x) array:\n",
      "[[10 20 30 40 50 60]]\n",
      "\n",
      "Adding series.values (1d np array) with 2d (x,1) array:\n",
      "[[10 15 20 25 30 35]\n",
      " [15 20 25 30 35 40]\n",
      " [20 25 30 35 40 45]\n",
      " [25 30 35 40 45 50]\n",
      " [30 35 40 45 50 55]\n",
      " [35 40 45 50 55 60]]\n",
      "\n",
      "Adding two 2d (x,1) arrays):\n",
      "[[10]\n",
      " [20]\n",
      " [30]\n",
      " [40]\n",
      " [50]\n",
      " [60]]\n",
      "\n",
      "Adding two 2d (1,x) arrays):\n",
      "[[10 20 30 40 50 60]]\n",
      "\n",
      "Adding single column DataFrame and 2d (x,1) arrays:\n",
      "    1\n",
      "0  10\n",
      "1  20\n",
      "2  30\n",
      "3  40\n",
      "4  50\n",
      "5  60\n",
      "<class 'pandas.core.frame.DataFrame'>\n",
      "\n",
      "Adding single column DataFrame and 1d np arrays:\n",
      "test_df[[1]] + np_array1d - this doesn't work and gives a 'ValueError: Unable to coerce to Series, length must be 1: given 6' error. Use series.values instead\n",
      "\n",
      "Adding single column DataFrame and 2d (1,x) arrays:\n",
      "test_df[[1]] + np_array2d16 - this doesn't work and gives a 'ValueError: Unable to coerce to DataFrame, shape must be (6, 1): given (1, 6)' error. Use series.values instead\n",
      "\n",
      "Adding series and 1d np arrays:\n",
      "0    10\n",
      "1    20\n",
      "2    30\n",
      "3    40\n",
      "4    50\n",
      "5    60\n",
      "dtype: int32\n",
      "\n",
      "Adding series and np arrays:\n",
      "test_series + np_array2d16 - this doesn't work and gives a 'Exception: Data must be 1-dimensional' error. Use series.values instead\n"
     ]
    }
   ],
   "source": [
    "print(\"Adding series.values (1d np array) and 1d numpy array:\")\n",
    "print(test_series.values + np_array1d)\n",
    "\n",
    "print(\"\\nAdding series.values (1d np array) with 2d (1,x) array:\")\n",
    "print(test_series.values + np_array2d16)\n",
    "\n",
    "print(\"\\nAdding series.values (1d np array) with 2d (x,1) array:\")\n",
    "print(test_series.values + np_array2d61)\n",
    "\n",
    "print(\"\\nAdding two 2d (x,1) arrays):\")\n",
    "print(np_array2d61 + np_array2d61)\n",
    "\n",
    "print(\"\\nAdding two 2d (1,x) arrays):\")\n",
    "print(np_array2d16 + np_array2d16)\n",
    "\n",
    "print(\"\\nAdding single column DataFrame and 2d (x,1) arrays:\")\n",
    "result = test_df[[1]] + np_array2d61\n",
    "print(result)\n",
    "#print(\"Dimensions:\", np_array2d16.ndim)\n",
    "#print(\"Shape:\", np_array2d16.shape)\n",
    "print(type(result))\n",
    "\n",
    "print(\"\\nAdding single column DataFrame and 1d np arrays:\")\n",
    "print(\"test_df[[1]] + np_array1d - this doesn't work and gives a 'ValueError: Unable to coerce to Series, length must be 1: given 6' error. Use series.values instead\")\n",
    "\n",
    "print(\"\\nAdding single column DataFrame and 2d (1,x) arrays:\")\n",
    "print(\"test_df[[1]] + np_array2d16 - this doesn't work and gives a 'ValueError: Unable to coerce to DataFrame, shape must be (6, 1): given (1, 6)' error. Use series.values instead\")\n",
    "\n",
    "print(\"\\nAdding series and 1d np arrays:\")\n",
    "print(test_series + np_array1d)\n",
    "\n",
    "print(\"\\nAdding series and np arrays:\")\n",
    "print(\"test_series + np_array2d16 - this doesn't work and gives a 'Exception: Data must be 1-dimensional' error. Use series.values instead\")\n"
   ]
  },
  {
   "cell_type": "markdown",
   "metadata": {},
   "source": [
    "## Numpy Array Manipulation\n",
    "np.reshape - gives a new shape to an array without changing the data<br/>\n",
    "np.ravel - returns a flattened 1d array (only copies data if necessary and usually returns a view)<br/>\n",
    "np.flatten - returns a copy of the array collapsed into one dimension\n",
    "\n",
    "np.zeros((3,3)).ravel()<br/>\n",
    "array([ 0.,  0.,  0.,  0.,  0.,  0.,  0.,  0.,  0.])\n",
    "\n",
    "The importance of ravel over flatten is ravel only copies data if necessary and usually returns a view, while flatten will always return a copy of the data.\n",
    "\n",
    "To use reshape to flatten the array:\n",
    "\n",
    "tt = t.reshape(-1)"
   ]
  }
 ],
 "metadata": {
  "kernelspec": {
   "display_name": "Python [default]",
   "language": "python",
   "name": "python3"
  },
  "language_info": {
   "codemirror_mode": {
    "name": "ipython",
    "version": 3
   },
   "file_extension": ".py",
   "mimetype": "text/x-python",
   "name": "python",
   "nbconvert_exporter": "python",
   "pygments_lexer": "ipython3",
   "version": "3.5.2"
  }
 },
 "nbformat": 4,
 "nbformat_minor": 2
}
